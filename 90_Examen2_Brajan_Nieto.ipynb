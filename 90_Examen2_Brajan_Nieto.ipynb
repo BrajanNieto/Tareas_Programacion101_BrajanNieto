{
  "nbformat": 4,
  "nbformat_minor": 0,
  "metadata": {
    "colab": {
      "provenance": [],
      "include_colab_link": true
    },
    "kernelspec": {
      "name": "python3",
      "display_name": "Python 3"
    },
    "language_info": {
      "name": "python"
    }
  },
  "cells": [
    {
      "cell_type": "markdown",
      "metadata": {
        "id": "view-in-github",
        "colab_type": "text"
      },
      "source": [
        "<a href=\"https://colab.research.google.com/github/BrajanNieto/Tareas_Programacion101_BrajanNieto/blob/main/90_Examen2_Brajan_Nieto.ipynb\" target=\"_parent\"><img src=\"https://colab.research.google.com/assets/colab-badge.svg\" alt=\"Open In Colab\"/></a>"
      ]
    },
    {
      "cell_type": "markdown",
      "source": [
        "#**Práctica 02 - Programación 101**\n",
        "## Maestría de Ciencia de Datos e Inteligencia Artificial\n",
        "### Programación 101\n",
        "\n",
        "**Profesor del curso:**  \n",
        "Mg. John Caballero Terrazos  \n",
        "[jcaballero@utec.edu.pe](mailto:jcaballero@utec.edu.pe)\n",
        "\n",
        "**Maestrante:**  \n",
        "Bach. Brajan Esteban Nieto Espinoza  \n",
        "[brajan.nieto@utec.edu.pe](mailto:brajan.nieto@utec.edu.pe)\n",
        "\n",
        "<img src=\"https://pregrado.utec.edu.pe/sites/default/files/logo-utec-h_0_0.svg\" width=\"190\" alt=\"Logo UTEC\" loading=\"lazy\" typeof=\"foaf:Image\">"
      ],
      "metadata": {
        "id": "_9GhAtAbKeUj"
      }
    },
    {
      "cell_type": "markdown",
      "source": [
        "### 1. Cifrado de Texto (5 puntos)\n",
        "Escribe una función en Python llamada cifrar_texto que tome una cadena de texto y un número entero positivo n.\n",
        "La función debe devolver una nueva cadena donde cada carácter alfabético ha sido desplazado n posiciones\n",
        "adelante en el alfabeto. El cifrado debe ser cíclico; es decir, después de la 'z' sigue la 'a'. Mantén los caracteres\n",
        "no alfabéticos sin cambios y preserva las mayúsculas y minúsculas."
      ],
      "metadata": {
        "id": "nuyQXPDoQqCl"
      }
    },
    {
      "cell_type": "code",
      "source": [
        "def cifrar_texto(texto, n):\n",
        "    '''\n",
        "    Permite cifrar una cadena de texto desplazando cada carácter alfabético n posiciones adelante en el alfabeto.\n",
        "    El cifrado es cíclico y preserva mayúsculas y minúsculas. Los caracteres no alfabéticos permanecen sin cambios.\n",
        "\n",
        "    Retourn: Texto cifrado, o retorna una cadena vacía si no es un número entero.\n",
        "    '''\n",
        "\n",
        "    # Verificar si 'n' es un número entero\n",
        "    if not isinstance(n, int):\n",
        "        if isinstance(n, float):\n",
        "            print(\"Error: El segundo valor debe ser un número entero.\")\n",
        "        else:\n",
        "            print(\"Error: El segundo valor debe ser un número entero.\")\n",
        "        return ''  # Retorna una cadena vacía si 'n' no es válido\n",
        "\n",
        "    cifrado = []\n",
        "\n",
        "    for char in texto:\n",
        "        if char.isalpha():\n",
        "            # Determinamos si el carácter es mayúscula o minúscula\n",
        "            original = ord('A') if char.isupper() else ord('a')\n",
        "            # Calcular la posición desplazada con ciclo\n",
        "            desplazado = (ord(char) - original + n) % 26 + original\n",
        "            cifrado.append(chr(desplazado))\n",
        "        else:\n",
        "            # Mantener caracteres no alfabéticos sin cambios\n",
        "            cifrado.append(char)\n",
        "\n",
        "    return ''.join(cifrado)\n",
        "\n"
      ],
      "metadata": {
        "id": "mYijqfsVK4vQ"
      },
      "execution_count": 22,
      "outputs": []
    },
    {
      "cell_type": "code",
      "source": [
        "cifrar_texto (\"EL problema no es que MI3NTAS, EL problema ES QUE TE CREO\", 1)"
      ],
      "metadata": {
        "colab": {
          "base_uri": "https://localhost:8080/",
          "height": 35
        },
        "id": "UhNYF7QFSCm_",
        "outputId": "7ee71ab5-06fc-49d0-c8e4-d6b9725ac733"
      },
      "execution_count": 23,
      "outputs": [
        {
          "output_type": "execute_result",
          "data": {
            "text/plain": [
              "'FM qspcmfnb op ft rvf NJ3OUBT, FM qspcmfnb FT RVF UF DSFP'"
            ],
            "application/vnd.google.colaboratory.intrinsic+json": {
              "type": "string"
            }
          },
          "metadata": {},
          "execution_count": 23
        }
      ]
    },
    {
      "cell_type": "code",
      "source": [
        "cifrar_texto (\"EL problema no es que MI3NTAS, EL problema ES QUE TE CREO\", 1.5)"
      ],
      "metadata": {
        "id": "SukgfX8KT08C",
        "outputId": "a5906750-6e6a-4660-9bcd-b25c9fc6d023",
        "colab": {
          "base_uri": "https://localhost:8080/",
          "height": 53
        }
      },
      "execution_count": 24,
      "outputs": [
        {
          "output_type": "stream",
          "name": "stdout",
          "text": [
            "Error: El segundo valor debe ser un número entero.\n"
          ]
        },
        {
          "output_type": "execute_result",
          "data": {
            "text/plain": [
              "''"
            ],
            "application/vnd.google.colaboratory.intrinsic+json": {
              "type": "string"
            }
          },
          "metadata": {},
          "execution_count": 24
        }
      ]
    },
    {
      "cell_type": "markdown",
      "source": [
        "###2. Números Primos Gemelos (5 puntos)\n",
        "\n",
        "Escribe una función en Python que encuentre y devuelva todos los pares de números primos gemelos menores\n",
        "que un número entero positivo m dado. Los números primos gemelos son pares de números primos que difieren\n",
        "en 2 (por ejemplo, 3 y 5).\n",
        "Pista: Crea una función auxiliar para verificar si un número es primo, y utiliza un bucle para encontrar todos los\n",
        "primos hasta m.\n",
        "\n",
        "Ejemplo:\n",
        "primos_gemelos(15) # Devuelve [(3, 5), (5, 7), (11, 13)]"
      ],
      "metadata": {
        "id": "jMGdGCvoTTvE"
      }
    },
    {
      "cell_type": "code",
      "source": [
        "def es_primo(numero):\n",
        "    \"\"\"\n",
        "    Verifica si un número es primo\n",
        "    \"\"\"\n",
        "    # Los menores que 2 no son primos por default\n",
        "    if numero < 2:\n",
        "        return False\n",
        "\n",
        "    # Iterar desde 2 hasta la raíz cuadrada del num\n",
        "    for i in range(2, int(numero ** 0.5) + 1):\n",
        "        # Si el número, es divisible por i significa que No es Primo\n",
        "        if numero % i == 0:\n",
        "            return False\n",
        "\n",
        "    # Si no se encontraron divisores entonces es PRIMO\n",
        "    return True"
      ],
      "metadata": {
        "id": "5XDs_ySySV66"
      },
      "execution_count": 25,
      "outputs": []
    },
    {
      "cell_type": "code",
      "source": [
        "es_primo(18)"
      ],
      "metadata": {
        "id": "qsZzWP_AWRFB",
        "outputId": "b51ef6ca-412c-4d4c-c1d2-a743024c6108",
        "colab": {
          "base_uri": "https://localhost:8080/"
        }
      },
      "execution_count": 29,
      "outputs": [
        {
          "output_type": "execute_result",
          "data": {
            "text/plain": [
              "False"
            ]
          },
          "metadata": {},
          "execution_count": 29
        }
      ]
    },
    {
      "cell_type": "code",
      "source": [
        "es_primo(113)"
      ],
      "metadata": {
        "id": "4V95N4w4WgUN",
        "outputId": "7f6af7bc-6391-4122-a474-55f492130adb",
        "colab": {
          "base_uri": "https://localhost:8080/"
        }
      },
      "execution_count": 30,
      "outputs": [
        {
          "output_type": "execute_result",
          "data": {
            "text/plain": [
              "True"
            ]
          },
          "metadata": {},
          "execution_count": 30
        }
      ]
    },
    {
      "cell_type": "code",
      "source": [
        "def primos_gemelos(n):\n",
        "    \"\"\"\n",
        "    Devueve todos los pares de numeors primos gemelos menores que n\n",
        "    Return: Lista de pares de primos gemelos.\n",
        "    \"\"\"\n",
        "    # Lista inicial vacia de para otdo los primos\n",
        "    primos = []\n",
        "\n",
        "    # Itera desde 2 hasta n-1 para encontrar los ´primos menores\n",
        "    for numero in range(2, n):\n",
        "        if es_primo(numero):\n",
        "            primos.append(numero)\n",
        "\n",
        "    # Lista inicial de primos gemelos\n",
        "    gemelitos = []\n",
        "\n",
        "    # buscamos pares que difieran en 2, aprovechamos que se almacenaron secuencialmente\n",
        "    for i in range(len(primos) - 1):\n",
        "        # Calcular la diferencia entre dos primos consecutivos pq no se pueden diferenciar entr no consecutivos\n",
        "        diferencia = primos[i + 1] - primos[i]\n",
        "        # Si la diferencia es 2 usamos append\n",
        "        if diferencia == 2:\n",
        "            # Añadir el par de primos, estamos añadiendo como tupla para returnar apres de tuplas como nos dio en el ejemplop Ejemplo: primos_gemelos(15) # Devuelve [(3, 5), (5, 7), (11, 13)]\n",
        "            gemelitos.append((primos[i], primos[i + 1]))\n",
        "\n",
        "    # Retornar la lista de pares de primos gemelos encontrados\n",
        "    return gemelitos\n"
      ],
      "metadata": {
        "id": "FTqiPJA1Wl20"
      },
      "execution_count": 32,
      "outputs": []
    },
    {
      "cell_type": "code",
      "source": [
        "primos_gemelos(15)"
      ],
      "metadata": {
        "colab": {
          "base_uri": "https://localhost:8080/"
        },
        "id": "2GnjTfPHOz5k",
        "outputId": "365fed70-7cef-46b1-811d-26679f0b9648"
      },
      "execution_count": 33,
      "outputs": [
        {
          "output_type": "execute_result",
          "data": {
            "text/plain": [
              "[(3, 5), (5, 7), (11, 13)]"
            ]
          },
          "metadata": {},
          "execution_count": 33
        }
      ]
    },
    {
      "cell_type": "code",
      "source": [
        "primos_gemelos(100)"
      ],
      "metadata": {
        "id": "RgQp2zmDXrGP",
        "outputId": "303a6f57-b50d-435e-898e-7da0ad5f2af8",
        "colab": {
          "base_uri": "https://localhost:8080/"
        }
      },
      "execution_count": 34,
      "outputs": [
        {
          "output_type": "execute_result",
          "data": {
            "text/plain": [
              "[(3, 5), (5, 7), (11, 13), (17, 19), (29, 31), (41, 43), (59, 61), (71, 73)]"
            ]
          },
          "metadata": {},
          "execution_count": 34
        }
      ]
    },
    {
      "cell_type": "markdown",
      "source": [
        "###3. Triángulo de Pascal (4 puntos)\n",
        "Utilizando bucles, escribe una función en Python que genere el Triángulo de Pascal hasta una altura h dada e\n",
        "imprímelo en formato piramidal.\n",
        "Pista: Cada número en el triángulo es la suma de los dos números directamente encima de él. Puedes utilizar\n",
        "listas para almacenar las filas.\n",
        "Ejemplo para h = 5:\n",
        "\n",
        "1\n",
        "\n",
        "1 1\n",
        "\n",
        "1 2 1\n",
        "\n",
        "1 3 3 1\n",
        "\n",
        "1 4 6 4 1"
      ],
      "metadata": {
        "id": "CfSinBOZXvvZ"
      }
    },
    {
      "cell_type": "code",
      "source": [
        "def generar_pascal(h):\n",
        "    \"\"\"\n",
        "    Genera el Triángulo de Pascal hasta una altura h.\n",
        "    \"\"\"\n",
        "    # Un analogo a iniciar el fibonacci, es la condicion para iniciar el triangulo pascar\n",
        "    triangulo = [[1]]\n",
        "\n",
        "    # Generamos cada fila del triángulo\n",
        "    for i in range(1, h):\n",
        "        fila_anterior = triangulo[i - 1]  # Obtiene la fila anterior para dos seria el inicial\n",
        "        fila_actual = [1]  # Cada fila comienza con 1 y termina con1\n",
        "\n",
        "        for j in range(1, len(fila_anterior)):\n",
        "            # Cada número es la suma de los dos Encima de est enumero\n",
        "            fila_actual.append(fila_anterior[j - 1] + fila_anterior[j])\n",
        "\n",
        "        fila_actual.append(1)  # termina con 1\n",
        "        triangulo.append(fila_actual)  # Añade la fila\n",
        "\n",
        "    return triangulo"
      ],
      "metadata": {
        "id": "PFknnzE7X34H"
      },
      "execution_count": 40,
      "outputs": []
    },
    {
      "cell_type": "code",
      "source": [
        "generar_pascal(5)"
      ],
      "metadata": {
        "id": "tGF1tDT_ZNzg",
        "outputId": "117b836e-19de-4ee4-c334-7ff81dde5c20",
        "colab": {
          "base_uri": "https://localhost:8080/"
        }
      },
      "execution_count": 41,
      "outputs": [
        {
          "output_type": "execute_result",
          "data": {
            "text/plain": [
              "[[1], [1, 1], [1, 2, 1], [1, 3, 3, 1], [1, 4, 6, 4, 1]]"
            ]
          },
          "metadata": {},
          "execution_count": 41
        }
      ]
    },
    {
      "cell_type": "code",
      "source": [
        "def imprimir_pascal(triangulo):\n",
        "    \"\"\"\n",
        "    Imprime el Triángulo de Pascal en el formato solicitado como piramide, como input se solicita el triangulo generado\n",
        "    \"\"\"\n",
        "    h = len(triangulo)  # Obtiene la altura del triángulo\n",
        "\n",
        "    for i, fila in enumerate(triangulo):\n",
        "        # Calcula el número de espacios necesarios para centrar la fila\n",
        "        espacios = ' ' * (h - i)\n",
        "\n",
        "        # Convierte los números de la fila a cadenas de texto y los une con espacios\n",
        "        fila_str = ' '.join(map(str, fila))\n",
        "\n",
        "        # Imprime la fila con los espacios iniciales para formar la pirámide\n",
        "        print(espacios + fila_str)"
      ],
      "metadata": {
        "id": "CLhu4sxiZWNn"
      },
      "execution_count": 42,
      "outputs": []
    },
    {
      "cell_type": "code",
      "source": [
        "#Podemos usalro asi\n",
        "imprimir_pascal(generar_pascal(5))"
      ],
      "metadata": {
        "id": "ijvZLnLcZs2i",
        "outputId": "1719efbd-3b50-4c26-8717-10c59e74bcfb",
        "colab": {
          "base_uri": "https://localhost:8080/"
        }
      },
      "execution_count": 45,
      "outputs": [
        {
          "output_type": "stream",
          "name": "stdout",
          "text": [
            "     1\n",
            "    1 1\n",
            "   1 2 1\n",
            "  1 3 3 1\n",
            " 1 4 6 4 1\n"
          ]
        }
      ]
    }
  ]
}