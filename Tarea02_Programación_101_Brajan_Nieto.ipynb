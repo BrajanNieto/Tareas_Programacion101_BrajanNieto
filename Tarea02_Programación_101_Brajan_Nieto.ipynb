{
  "nbformat": 4,
  "nbformat_minor": 0,
  "metadata": {
    "colab": {
      "provenance": [],
      "authorship_tag": "ABX9TyNJRviTjrYHePr9R5ds4S9f",
      "include_colab_link": true
    },
    "kernelspec": {
      "name": "python3",
      "display_name": "Python 3"
    },
    "language_info": {
      "name": "python"
    }
  },
  "cells": [
    {
      "cell_type": "markdown",
      "metadata": {
        "id": "view-in-github",
        "colab_type": "text"
      },
      "source": [
        "<a href=\"https://colab.research.google.com/github/BrajanNieto/Tareas_Programacion101_BrajanNieto/blob/main/Tarea02_Programaci%C3%B3n_101_Brajan_Nieto.ipynb\" target=\"_parent\"><img src=\"https://colab.research.google.com/assets/colab-badge.svg\" alt=\"Open In Colab\"/></a>"
      ]
    },
    {
      "cell_type": "markdown",
      "source": [
        "#**Tarea 02 - Programación 101**\n",
        "\n",
        "---\n",
        "\n",
        "\n",
        "## Maestría de Ciencia de Datos e Inteligencia Artificial\n",
        "### Programación 101\n",
        "\n",
        "---\n",
        "\n",
        "\n",
        "**Profesor del curso:**  \n",
        "Mg. John Caballero Terrazos  \n",
        "[jcaballero@utec.edu.pe](mailto:jcaballero@utec.edu.pe)\n",
        "\n",
        "\\\n",
        "**Maestrante:**  \n",
        "Bach. Brajan Esteban Nieto Espinoza  \n",
        "[brajan.nieto@utec.edu.pe](mailto:brajan.nieto@utec.edu.pe)\n",
        "\n",
        "<img src=\"https://pregrado.utec.edu.pe/sites/default/files/logo-utec-h_0_0.svg\" width=\"190\" alt=\"Logo UTEC\" loading=\"lazy\" typeof=\"foaf:Image\">\n",
        "\n",
        "\n",
        "---"
      ],
      "metadata": {
        "id": "QlyiNHkQbZe7"
      }
    },
    {
      "cell_type": "markdown",
      "source": [
        "## <b>1. Desafíos</b>"
      ],
      "metadata": {
        "id": "7fIF_jYydTxb"
      }
    },
    {
      "cell_type": "markdown",
      "source": [
        "### Desafío 1: Análisis de ventas de una tienda de ropa\n",
        "\n",
        "Eres el encargado de una tienda de ropa y tienes una lista de ventas diarias para diferentes productos. Cada día, vendes camisetas, pantalones y zapatos. Quieres analizar las ventas para entender mejor el rendimiento de cada producto.\n",
        "\n",
        "**Objetivo:**\n",
        "* Crea tres listas: una para camisetas, otra para pantalones y una para zapatos, con la cantidad vendida cada día durante una semana.\n",
        "* Usa slicing para extraer las ventas de los últimos 3 días de cada producto.\n",
        "* Usa listas por comprensión para calcular el total de ventas de cada producto y el promedio de ventas diarias.\n",
        "* Clasifica los productos en \"buenas ventas\" o \"malas ventas\" según si el promedio de ventas diarias es mayor o menor a 5.\n",
        "\n",
        "\n",
        "**Instrucciones:**\n",
        "\n",
        "\n",
        "* Genera los datos de ventas usando listas manualmente o simulándolos con valores constantes.\n",
        "* Calcula el total de ventas por producto usando sum() y el promedio con len().\n",
        "* Usa listas por comprensión para clasificar las ventas de los productos.Crea un programa que simule una calculadora de propinas en un restaurante. El programa debe:\n"
      ],
      "metadata": {
        "id": "u7_YfFS-doj8"
      }
    },
    {
      "cell_type": "code",
      "source": [
        "############### Defino las 3 listas con ventas por la semana a criterio ##############\n",
        "#1.Creo las listas para las ventas por cada dia de la semana en orden de L a D\n",
        "venta_camiseta = [5, 2, 7, 7, 10, 15, 11]\n",
        "venta_pantalones = [7, 1, 8, 2, 30, 3, 5]\n",
        "venta_zapatos = [1, 2, 2, 3, 50, 5, 6]\n"
      ],
      "metadata": {
        "id": "knQmdE7zdI97"
      },
      "execution_count": 45,
      "outputs": []
    },
    {
      "cell_type": "code",
      "source": [
        "#2.Imprimo las ventas de los 3 ultimos días para cada producto\n",
        "print(f\"Tres ultimas ventas de camisetas: {venta_camiseta[-3:]}\")\n",
        "print(f\"Tres ultimas ventas de pantalones: {venta_pantalones[-3:]}\")\n",
        "print(f\"Tres ultimas ventas de zapatos: {venta_zapatos[-3:]}\")"
      ],
      "metadata": {
        "id": "v9q8f0Yew_FA",
        "outputId": "9a1ade5a-6c77-4998-a7c5-a86b1b507bc1",
        "colab": {
          "base_uri": "https://localhost:8080/"
        }
      },
      "execution_count": 46,
      "outputs": [
        {
          "output_type": "stream",
          "name": "stdout",
          "text": [
            "Tres ultimas ventas de camisetas: [10, 15, 11]\n",
            "Tres ultimas ventas de pantalones: [30, 3, 5]\n",
            "Tres ultimas ventas de zapatos: [50, 5, 6]\n"
          ]
        }
      ]
    },
    {
      "cell_type": "code",
      "source": [
        "#3.Calculo el total de ventas de cada producto y promedio de ventas diarias de 2 maneras:\n",
        "\n",
        "##.1.Como indica el objetivo 3: usando listas de comprensión..##\n",
        "print(\"\\033[1mResultados usando listas de comprensión\\033[0m\\n\")\n",
        "\n",
        "print(\"-Resultado de suma por productos\")\n",
        "print(f\"La venta total de las camisetas es: {sum([x for x in venta_camiseta])}\")\n",
        "print(f\"La venta total de los pantalones es: {sum([x for x in venta_pantalones])}\")\n",
        "print(f\"La venta total de los zapatos es: {sum([x for x in venta_zapatos])}\\n\")\n",
        "\n",
        "print(\"-Resultado de promedio por productos\")\n",
        "print(f\"El promedio de ventas de las camisetas en la semana es: {round(sum([x for x in venta_camiseta])/sum([1 for x in venta_camiseta]),2)}\")\n",
        "print(f\"El promedio de ventas de pantalones en la semana es: {round(sum([x for x in venta_pantalones])/sum(1 for x in venta_pantalones),2)}\")\n",
        "print(f\"El promedio de ventas de zapatos en la semana es: {round(sum([x for x in venta_zapatos])/sum(1 for x in venta_zapatos),2)}\\n\")\n",
        "\n",
        "print(\"-Resultado de ventas diarias es\")\n",
        "print(f\"Las ventas por cada dia es: {[sum(x) for x in zip(venta_camiseta,venta_pantalones,venta_zapatos)] }\\n\")\n",
        "\n",
        "print(\"-Resultado del promedio de ventas diarias es\")\n",
        "print(f\"El promedio en ventas por cada dia es: {[round(sum(x)/len(x),2) for x in zip(venta_camiseta,venta_pantalones,venta_zapatos)] }\\n\")\n",
        "\n"
      ],
      "metadata": {
        "id": "l58t47kcxBtY",
        "outputId": "3b3bf489-408e-4391-cdf5-203dd0fafa18",
        "colab": {
          "base_uri": "https://localhost:8080/",
          "height": 263
        }
      },
      "execution_count": 48,
      "outputs": [
        {
          "output_type": "stream",
          "name": "stdout",
          "text": [
            "\u001b[1mResultados usando listas de comprensión\u001b[0m\n",
            "\n",
            "-Resultado de suma por productos\n"
          ]
        },
        {
          "output_type": "error",
          "ename": "TypeError",
          "evalue": "'int' object is not callable",
          "traceback": [
            "\u001b[0;31m---------------------------------------------------------------------------\u001b[0m",
            "\u001b[0;31mTypeError\u001b[0m                                 Traceback (most recent call last)",
            "\u001b[0;32m<ipython-input-48-03571822e718>\u001b[0m in \u001b[0;36m<cell line: 7>\u001b[0;34m()\u001b[0m\n\u001b[1;32m      5\u001b[0m \u001b[0;34m\u001b[0m\u001b[0m\n\u001b[1;32m      6\u001b[0m \u001b[0mprint\u001b[0m\u001b[0;34m(\u001b[0m\u001b[0;34m\"-Resultado de suma por productos\"\u001b[0m\u001b[0;34m)\u001b[0m\u001b[0;34m\u001b[0m\u001b[0;34m\u001b[0m\u001b[0m\n\u001b[0;32m----> 7\u001b[0;31m \u001b[0mprint\u001b[0m\u001b[0;34m(\u001b[0m\u001b[0;34mf\"La venta total de las camisetas es: {sum([x for x in venta_camiseta])}\"\u001b[0m\u001b[0;34m)\u001b[0m\u001b[0;34m\u001b[0m\u001b[0;34m\u001b[0m\u001b[0m\n\u001b[0m\u001b[1;32m      8\u001b[0m \u001b[0mprint\u001b[0m\u001b[0;34m(\u001b[0m\u001b[0;34mf\"La venta total de los pantalones es: {sum([x for x in venta_pantalones])}\"\u001b[0m\u001b[0;34m)\u001b[0m\u001b[0;34m\u001b[0m\u001b[0;34m\u001b[0m\u001b[0m\n\u001b[1;32m      9\u001b[0m \u001b[0mprint\u001b[0m\u001b[0;34m(\u001b[0m\u001b[0;34mf\"La venta total de los zapatos es: {sum([x for x in venta_zapatos])}\"\u001b[0m\u001b[0;34m)\u001b[0m\u001b[0;34m\u001b[0m\u001b[0;34m\u001b[0m\u001b[0m\n",
            "\u001b[0;31mTypeError\u001b[0m: 'int' object is not callable"
          ]
        }
      ]
    },
    {
      "cell_type": "code",
      "source": [
        "##.2.Como indica la instrucción 2: usando listas sum () y len() directamente##\n",
        "print(\"\\n\\033[1mResultados sin usar listas de comprensión\\033[0m\\n\")\n",
        "\n",
        "print(\"-Resultado de suma por productos\")\n",
        "print(f\"La venta total de las camisetas es: {sum(venta_camiseta)}\")\n",
        "print(f\"La venta total de los pantalones es: {sum(venta_pantalones)}\")\n",
        "print(f\"La venta total de los zapatos es: {sum(venta_zapatos)}\\n\")\n",
        "\n",
        "print(\"-Resultado de promedio por productos\")\n",
        "print(f\"El promedio de ventas de las camisetas en la semana es: {round(sum(venta_camiseta)/len(venta_camiseta),2)}\")\n",
        "print(f\"El promedio de ventas de pantalones en la semana es: {round(sum(venta_pantalones)/len(venta_pantalones),2)}\")\n",
        "print(f\"El promedio de ventas de zapatos en la semana es: {round(sum(venta_zapatos)/len(venta_zapatos),2)}\\n\")\n",
        "\n",
        "#Utilizando for para el calculo por día\n",
        "ventas_diarias = []\n",
        "prom_diario = []\n",
        "for i in range(len(venta_camiseta)):\n",
        "  sum= venta_camiseta[i]+ venta_pantalones[i] + venta_zapatos[i]\n",
        "  ventas_diarias.append(sum)\n",
        "  prom_diario.append(sum/3)\n",
        "\n",
        "print(\"-Resultado de ventas diarias es\")\n",
        "print(f\"Las ventas por cada dia es: {ventas_diarias}\\n\")\n",
        "\n",
        "print(\"-Resultado del promedio de ventas diarias es\")\n",
        "print(f\"El promedio en ventas por cada dia es: {prom_diario}\\n\")"
      ],
      "metadata": {
        "id": "yjw3KcWl9Xd5"
      },
      "execution_count": null,
      "outputs": []
    }
  ]
}