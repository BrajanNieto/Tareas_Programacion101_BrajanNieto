{
  "nbformat": 4,
  "nbformat_minor": 0,
  "metadata": {
    "colab": {
      "provenance": [],
      "authorship_tag": "ABX9TyM3gBYHMTqZE4+GswkUC/JN",
      "include_colab_link": true
    },
    "kernelspec": {
      "name": "python3",
      "display_name": "Python 3"
    },
    "language_info": {
      "name": "python"
    }
  },
  "cells": [
    {
      "cell_type": "markdown",
      "metadata": {
        "id": "view-in-github",
        "colab_type": "text"
      },
      "source": [
        "<a href=\"https://colab.research.google.com/github/BrajanNieto/Tareas_Programacion101_BrajanNieto/blob/main/Tarea02_Programaci%C3%B3n_101_Brajan_Nieto.ipynb\" target=\"_parent\"><img src=\"https://colab.research.google.com/assets/colab-badge.svg\" alt=\"Open In Colab\"/></a>"
      ]
    },
    {
      "cell_type": "markdown",
      "source": [
        "#**Tarea 02 - Programación 101**\n",
        "\n",
        "---\n",
        "\n",
        "\n",
        "## Maestría de Ciencia de Datos e Inteligencia Artificial\n",
        "### Programación 101\n",
        "\n",
        "---\n",
        "\n",
        "\n",
        "**Profesor del curso:**  \n",
        "Mg. John Caballero Terrazos  \n",
        "[jcaballero@utec.edu.pe](mailto:jcaballero@utec.edu.pe)\n",
        "\n",
        "\\\n",
        "**Maestrante:**  \n",
        "Bach. Brajan Esteban Nieto Espinoza  \n",
        "[brajan.nieto@utec.edu.pe](mailto:brajan.nieto@utec.edu.pe)\n",
        "\n",
        "<img src=\"https://pregrado.utec.edu.pe/sites/default/files/logo-utec-h_0_0.svg\" width=\"190\" alt=\"Logo UTEC\" loading=\"lazy\" typeof=\"foaf:Image\">\n",
        "\n",
        "\n",
        "---"
      ],
      "metadata": {
        "id": "QlyiNHkQbZe7"
      }
    },
    {
      "cell_type": "markdown",
      "source": [
        "## <b>1. Desafíos</b>"
      ],
      "metadata": {
        "id": "7fIF_jYydTxb"
      }
    },
    {
      "cell_type": "markdown",
      "source": [
        "### Desafío 1: Análisis de ventas de una tienda de ropa\n",
        "\n",
        "Eres el encargado de una tienda de ropa y tienes una lista de ventas diarias para diferentes productos. Cada día, vendes camisetas, pantalones y zapatos. Quieres analizar las ventas para entender mejor el rendimiento de cada producto.\n",
        "\n",
        "**Objetivo:**\n",
        "* Crea tres listas: una para camisetas, otra para pantalones y una para zapatos, con la cantidad vendida cada día durante una semana.\n",
        "* Usa slicing para extraer las ventas de los últimos 3 días de cada producto.\n",
        "* Usa listas por comprensión para calcular el total de ventas de cada producto y el promedio de ventas diarias.\n",
        "* Clasifica los productos en \"buenas ventas\" o \"malas ventas\" según si el promedio de ventas diarias es mayor o menor a 5.\n",
        "\n",
        "\n",
        "**Instrucciones:**\n",
        "\n",
        "\n",
        "* Genera los datos de ventas usando listas manualmente o simulándolos con valores constantes.\n",
        "* Calcula el total de ventas por producto usando sum() y el promedio con len().\n",
        "* Usa listas por comprensión para clasificar las ventas de los productos.Crea un programa que simule una calculadora de propinas en un restaurante. El programa debe:\n"
      ],
      "metadata": {
        "id": "u7_YfFS-doj8"
      }
    },
    {
      "cell_type": "code",
      "source": [
        "############### Defino las 3 listas con ventas por la semana a criterio ##############\n",
        "#1.Creo las listas para las ventas por cada dia de la semana en orden de L a D\n",
        "venta_camiseta = [5, 2, 7, 7, 10, 15, 11]\n",
        "venta_pantalones = [7, 1, 8, 2, 30, 3, 5]\n",
        "venta_zapatos = [1, 2, 2, 3, 50, 5, 6]\n"
      ],
      "metadata": {
        "id": "knQmdE7zdI97"
      },
      "execution_count": 1,
      "outputs": []
    },
    {
      "cell_type": "code",
      "source": [
        "#2.Imprimo las ventas de los 3 ultimos días para cada producto\n",
        "print(f\"Tres ultimas ventas de camisetas: {venta_camiseta[-3:]}\")\n",
        "print(f\"Tres ultimas ventas de pantalones: {venta_pantalones[-3:]}\")\n",
        "print(f\"Tres ultimas ventas de zapatos: {venta_zapatos[-3:]}\")"
      ],
      "metadata": {
        "id": "v9q8f0Yew_FA",
        "outputId": "ed421505-4b59-4d3f-e6c8-e25f2ded7721",
        "colab": {
          "base_uri": "https://localhost:8080/"
        }
      },
      "execution_count": 2,
      "outputs": [
        {
          "output_type": "stream",
          "name": "stdout",
          "text": [
            "Tres ultimas ventas de camisetas: [10, 15, 11]\n",
            "Tres ultimas ventas de pantalones: [30, 3, 5]\n",
            "Tres ultimas ventas de zapatos: [50, 5, 6]\n"
          ]
        }
      ]
    },
    {
      "cell_type": "code",
      "source": [
        "#3.Calculo el total de ventas de cada producto y promedio de ventas diarias de 2 maneras:\n",
        "\n",
        "##3.1.Como indica el objetivo 3: usando listas de comprensión..##\n",
        "print(\"\\033[1mResultados usando listas de comprensión\\033[0m\\n\")\n",
        "\n",
        "print(\"-Resultado de suma por productos\")\n",
        "print(f\"La venta total de las camisetas es: {sum([x for x in venta_camiseta])}\")\n",
        "print(f\"La venta total de los pantalones es: {sum([x for x in venta_pantalones])}\")\n",
        "print(f\"La venta total de los zapatos es: {sum([x for x in venta_zapatos])}\\n\")\n",
        "\n",
        "print(\"-Resultado de promedio por productos\")\n",
        "print(f\"El promedio de ventas de las camisetas en la semana es: {round(sum([x for x in venta_camiseta])/sum([1 for x in venta_camiseta]),2)}\")\n",
        "print(f\"El promedio de ventas de pantalones en la semana es: {round(sum([x for x in venta_pantalones])/sum(1 for x in venta_pantalones),2)}\")\n",
        "print(f\"El promedio de ventas de zapatos en la semana es: {round(sum([x for x in venta_zapatos])/sum(1 for x in venta_zapatos),2)}\\n\")\n",
        "\n",
        "print(\"-Resultado de ventas diarias es\")\n",
        "print(f\"Las ventas por cada dia es: {[sum(x) for x in zip(venta_camiseta,venta_pantalones,venta_zapatos)] }\\n\")\n",
        "\n",
        "print(\"-Resultado del promedio de ventas diarias es\")\n",
        "print(f\"El promedio en ventas por cada dia es: {[round(sum(x)/len(x),2) for x in zip(venta_camiseta,venta_pantalones,venta_zapatos)] }\\n\")\n",
        "\n",
        "##3.2.Como indica la instrucción 2: usando listas sum () y len() directamente##\n",
        "print(\"\\n\\033[1mResultados sin usar listas de comprensión\\033[0m\\n\")\n",
        "\n",
        "print(\"-Resultado de suma por productos\")\n",
        "print(f\"La venta total de las camisetas es: {sum(venta_camiseta)}\")\n",
        "print(f\"La venta total de los pantalones es: {sum(venta_pantalones)}\")\n",
        "print(f\"La venta total de los zapatos es: {sum(venta_zapatos)}\\n\")\n",
        "\n",
        "print(\"-Resultado de promedio por productos\")\n",
        "print(f\"El promedio de ventas de las camisetas en la semana es: {round(sum(venta_camiseta)/len(venta_camiseta),2)}\")\n",
        "print(f\"El promedio de ventas de pantalones en la semana es: {round(sum(venta_pantalones)/len(venta_pantalones),2)}\")\n",
        "print(f\"El promedio de ventas de zapatos en la semana es: {round(sum(venta_zapatos)/len(venta_zapatos),2)}\\n\")\n",
        "\n",
        "#Utilizando for para el calculo por día\n",
        "ventas_diarias = []\n",
        "prom_diario = []\n",
        "for i in range(len(venta_camiseta)):\n",
        "  sum_venta= venta_camiseta[i]+ venta_pantalones[i] + venta_zapatos[i]\n",
        "  ventas_diarias.append(sum_venta)\n",
        "  prom_diario.append(round(sum_venta/3,2))\n",
        "\n",
        "print(\"-Resultado de ventas diarias es\")\n",
        "print(f\"Las ventas por cada dia es: {ventas_diarias}\\n\")\n",
        "\n",
        "print(\"-Resultado del promedio de ventas diarias es\")\n",
        "print(f\"El promedio en ventas por cada dia es: {prom_diario}\\n\")\n"
      ],
      "metadata": {
        "id": "l58t47kcxBtY",
        "outputId": "5757774f-6090-4719-d515-f2b93f48de31",
        "colab": {
          "base_uri": "https://localhost:8080/"
        }
      },
      "execution_count": 4,
      "outputs": [
        {
          "output_type": "stream",
          "name": "stdout",
          "text": [
            "\u001b[1mResultados usando listas de comprensión\u001b[0m\n",
            "\n",
            "-Resultado de suma por productos\n",
            "La venta total de las camisetas es: 57\n",
            "La venta total de los pantalones es: 56\n",
            "La venta total de los zapatos es: 69\n",
            "\n",
            "-Resultado de promedio por productos\n",
            "El promedio de ventas de las camisetas en la semana es: 8.14\n",
            "El promedio de ventas de pantalones en la semana es: 8.0\n",
            "El promedio de ventas de zapatos en la semana es: 9.86\n",
            "\n",
            "-Resultado de ventas diarias es\n",
            "Las ventas por cada dia es: [13, 5, 17, 12, 90, 23, 22]\n",
            "\n",
            "-Resultado del promedio de ventas diarias es\n",
            "El promedio en ventas por cada dia es: [4.33, 1.67, 5.67, 4.0, 30.0, 7.67, 7.33]\n",
            "\n",
            "\n",
            "\u001b[1mResultados sin usar listas de comprensión\u001b[0m\n",
            "\n",
            "-Resultado de suma por productos\n",
            "La venta total de las camisetas es: 57\n",
            "La venta total de los pantalones es: 56\n",
            "La venta total de los zapatos es: 69\n",
            "\n",
            "-Resultado de promedio por productos\n",
            "El promedio de ventas de las camisetas en la semana es: 8.14\n",
            "El promedio de ventas de pantalones en la semana es: 8.0\n",
            "El promedio de ventas de zapatos en la semana es: 9.86\n",
            "\n",
            "-Resultado de ventas diarias es\n",
            "Las ventas por cada dia es: [13, 5, 17, 12, 90, 23, 22]\n",
            "\n",
            "-Resultado del promedio de ventas diarias es\n",
            "El promedio en ventas por cada dia es: [4.33, 1.67, 5.67, 4.0, 30.0, 7.67, 7.33]\n",
            "\n"
          ]
        }
      ]
    },
    {
      "cell_type": "code",
      "source": [
        "#4.Calculo si el dia tuvo buenas o malas ventas:\n",
        "\n",
        "Promedio_Ventas_diarias = [round(sum(x)/len(x),2) for x in zip(venta_camiseta,venta_pantalones,venta_zapatos)]\n",
        "buenas_malas = [\"Buenas ventas\" if x >= 5 else \"Malas ventas\" for x in Promedio_Ventas_diarias]\n",
        "dias_de_semana = [\"Lunes\", \"Martes\", \"Miércoles\", \"Jueves\", \"Viernes\", \"Sábado\", \"Domingo\"]\n",
        "print([f\"{x}: {y}\" for x, y in zip(dias_de_semana, buenas_malas)])"
      ],
      "metadata": {
        "id": "yjw3KcWl9Xd5",
        "outputId": "cbd9fa91-a7fa-4207-d3b4-813d674c71f1",
        "colab": {
          "base_uri": "https://localhost:8080/"
        }
      },
      "execution_count": 8,
      "outputs": [
        {
          "output_type": "stream",
          "name": "stdout",
          "text": [
            "['Lunes: Malas ventas', 'Martes: Malas ventas', 'Miércoles: Buenas ventas', 'Jueves: Malas ventas', 'Viernes: Buenas ventas', 'Sábado: Buenas ventas', 'Domingo: Buenas ventas']\n"
          ]
        }
      ]
    }
  ]
}