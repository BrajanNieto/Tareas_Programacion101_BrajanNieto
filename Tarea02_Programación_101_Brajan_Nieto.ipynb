{
  "nbformat": 4,
  "nbformat_minor": 0,
  "metadata": {
    "colab": {
      "provenance": [],
      "authorship_tag": "ABX9TyP3xodKdvqwM2fZ7eoE7xUc",
      "include_colab_link": true
    },
    "kernelspec": {
      "name": "python3",
      "display_name": "Python 3"
    },
    "language_info": {
      "name": "python"
    }
  },
  "cells": [
    {
      "cell_type": "markdown",
      "metadata": {
        "id": "view-in-github",
        "colab_type": "text"
      },
      "source": [
        "<a href=\"https://colab.research.google.com/github/BrajanNieto/Tareas_Programacion101_BrajanNieto/blob/main/Tarea02_Programaci%C3%B3n_101_Brajan_Nieto.ipynb\" target=\"_parent\"><img src=\"https://colab.research.google.com/assets/colab-badge.svg\" alt=\"Open In Colab\"/></a>"
      ]
    },
    {
      "cell_type": "markdown",
      "source": [
        "#**Tarea 02 - Programación 101**\n",
        "## Maestría de Ciencia de Datos e Inteligencia Artificial\n",
        "### Programación 101\n",
        "\n",
        "**Profesor del curso:**  \n",
        "Mg. John Caballero Terrazos  \n",
        "[jcaballero@utec.edu.pe](mailto:jcaballero@utec.edu.pe)\n",
        "\n",
        "**Maestrante:**  \n",
        "Bach. Brajan Esteban Nieto Espinoza  \n",
        "[brajan.nieto@utec.edu.pe](mailto:brajan.nieto@utec.edu.pe)\n",
        "\n",
        "<img src=\"https://pregrado.utec.edu.pe/sites/default/files/logo-utec-h_0_0.svg\" width=\"190\" alt=\"Logo UTEC\" loading=\"lazy\" typeof=\"foaf:Image\">"
      ],
      "metadata": {
        "id": "QlyiNHkQbZe7"
      }
    },
    {
      "cell_type": "markdown",
      "source": [
        "## <b>1. Desafíos</b>"
      ],
      "metadata": {
        "id": "7fIF_jYydTxb"
      }
    },
    {
      "cell_type": "markdown",
      "source": [
        "### Desafío 1: Análisis de ventas de una tienda de ropa\n",
        "\n",
        "Eres el encargado de una tienda de ropa y tienes una lista de ventas diarias para diferentes productos. Cada día, vendes camisetas, pantalones y zapatos. Quieres analizar las ventas para entender mejor el rendimiento de cada producto.\n",
        "\n",
        "**Objetivo:**\n",
        "* Crea tres listas: una para camisetas, otra para pantalones y una para zapatos, con la cantidad vendida cada día durante una semana.\n",
        "* Usa slicing para extraer las ventas de los últimos 3 días de cada producto.\n",
        "* Usa listas por comprensión para calcular el total de ventas de cada producto y el promedio de ventas diarias.\n",
        "* Clasifica los productos en \"buenas ventas\" o \"malas ventas\" según si el promedio de ventas diarias es mayor o menor a 5.\n",
        "\n",
        "\n",
        "**Instrucciones:**\n",
        "\n",
        "\n",
        "* Genera los datos de ventas usando listas manualmente o simulándolos con valores constantes.\n",
        "* Calcula el total de ventas por producto usando sum() y el promedio con len().\n",
        "* Usa listas por comprensión para clasificar las ventas de los productos.Crea un programa que simule una calculadora de propinas en un restaurante. El programa debe:\n"
      ],
      "metadata": {
        "id": "u7_YfFS-doj8"
      }
    },
    {
      "cell_type": "code",
      "source": [
        "############### Defino las 3 listas con ventas por la semana a criterio ##############\n",
        "#1.Creo las listas para las ventas por cada dia de la semana en orden de L a D\n",
        "venta_camiseta = [50, 25, 75, 70, 100, 150, 110]\n",
        "venta_pantalones = [70, 140, 85, 250, 305, 305, 550]\n",
        "venta_zapatos = [115, 225, 225, 300, 500, 500, 610]\n",
        "#2.Imprimo las ventas de los 3 ultimos días para cada producto\n",
        "print(venta_camiseta[-3:])"
      ],
      "metadata": {
        "id": "knQmdE7zdI97",
        "colab": {
          "base_uri": "https://localhost:8080/"
        },
        "outputId": "6674a52b-129e-4565-b9c7-deb2c19ee192"
      },
      "execution_count": null,
      "outputs": [
        {
          "output_type": "stream",
          "name": "stdout",
          "text": [
            "Ingrese el total de la cuenta: 50\n",
            "Ingrese el porcentaje de la propina que le gustaría dejar (por ejemplo: 10, 15, 20, etc): \n",
            "Describa su experiencia con el servicio (Excelente, bueno, mediocre o malo)malo\n",
            "La mentamos ello, aumentaremos nuestro esfuerzo en brindarle mejores servicios.\n",
            "Cantidad de propina: S/0.00\n",
            "Total a pagar: S/ 50.00\n"
          ]
        }
      ]
    },
    {
      "cell_type": "markdown",
      "source": [
        "### Desafío 2: Clasificación de Números\n",
        "\n",
        "Escribe un programa que clasifique un número dado por el usuario según sus características numéricas. El programa debe:\n",
        "\n",
        "Pedir al usuario que ingrese un número entero.\n",
        "\n",
        "Determinar si el número es:\n",
        "- Par o impar.\n",
        "- Positivo, negativo o cero.\n",
        "- Primo o no primo (un número primo solo es divisible por 1 y por sí mismo).\n",
        "- Imprimir una clasificación completa del número según las tres categorías anteriores."
      ],
      "metadata": {
        "id": "X9fY20bQdpFU"
      }
    },
    {
      "cell_type": "code",
      "source": [
        "############### Clasificación de Números ##############\n",
        "#1.Genero el input para pedir el dato y defino una variable cat\n",
        "x = int(input(\"Ingrese un número entero:\"))\n",
        "cat = \"El numero ingresado es\"\n",
        "#2.Genero la estructura if para saber si es par\n",
        "if x == 0 :\n",
        "  cat = cat + \" Cero\"\n",
        "elif (x % 2) == 0:\n",
        "  cat = cat + \" Par\"\n",
        "else:\n",
        "  cat = cat + \" Impar\"\n",
        "#3.Genero la estructura if para saber si es positivo, negativo o cero\n",
        "if x == 0:\n",
        "  cat = cat\n",
        "elif x < 0:\n",
        "  cat = cat + \", es negativo\"\n",
        "else:\n",
        "  cat = cat + \", es positivo\"\n",
        "#2.Genero la estructura if para saber si es primo o no primo\n",
        "if abs(x) <=1:\n",
        "  cat = cat + \" y no es primo.\"\n",
        "else:\n",
        "  primo = 0\n",
        "  for i in range(2,abs(x)-1,1):\n",
        "    if (abs(x) % i) == 0:\n",
        "      primo = primo + 1\n",
        "  if primo == 0:\n",
        "    cat = cat + \" y es primo.\"\n",
        "  else:\n",
        "    cat = cat + \" y no es primo.\"\n",
        "\n",
        "print(cat)"
      ],
      "metadata": {
        "id": "tiJTr9tGdVXb",
        "colab": {
          "base_uri": "https://localhost:8080/"
        },
        "outputId": "1f0b09a5-3459-4823-bf7f-c75a1f772a32"
      },
      "execution_count": null,
      "outputs": [
        {
          "output_type": "stream",
          "name": "stdout",
          "text": [
            "Ingrese un número entero:0\n",
            "El numero ingresado es Cero y no es primo.\n"
          ]
        }
      ]
    }
  ]
}