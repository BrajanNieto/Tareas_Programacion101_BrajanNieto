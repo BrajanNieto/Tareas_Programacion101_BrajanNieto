{
  "nbformat": 4,
  "nbformat_minor": 0,
  "metadata": {
    "colab": {
      "provenance": [],
      "authorship_tag": "ABX9TyP6ggDRxuScaqKurHEGisiR",
      "include_colab_link": true
    },
    "kernelspec": {
      "name": "python3",
      "display_name": "Python 3"
    },
    "language_info": {
      "name": "python"
    }
  },
  "cells": [
    {
      "cell_type": "markdown",
      "metadata": {
        "id": "view-in-github",
        "colab_type": "text"
      },
      "source": [
        "<a href=\"https://colab.research.google.com/github/BrajanNieto/Tareas_Programacion101_BrajanNieto/blob/main/Tarea01_Programaci%C3%B3n_101_Brajan_Nieto.ipynb\" target=\"_parent\"><img src=\"https://colab.research.google.com/assets/colab-badge.svg\" alt=\"Open In Colab\"/></a>"
      ]
    },
    {
      "cell_type": "markdown",
      "source": [
        "#**Tarea 01 - Programación 101**\n",
        "## Maestría de Ciencia de Datos e Inteligencia Artificial\n",
        "### Programación 101\n",
        "\n",
        "**Profesor del curso:**  \n",
        "Mg. John Caballero Terrazos  \n",
        "[jcaballero@utec.edu.pe](mailto:jcaballero@utec.edu.pe)\n",
        "\n",
        "**Maestrante:**  \n",
        "Bach. Brajan Esteban Nieto Espinoza  \n",
        "[brajan.nieto@utec.edu.pe](mailto:brajan.nieto@utec.edu.pe)\n",
        "\n",
        "<img src=\"https://pregrado.utec.edu.pe/sites/default/files/logo-utec-h_0_0.svg\" width=\"190\" alt=\"Logo UTEC\" loading=\"lazy\" typeof=\"foaf:Image\">"
      ],
      "metadata": {
        "id": "QlyiNHkQbZe7"
      }
    },
    {
      "cell_type": "markdown",
      "source": [
        "## <b>1. Ejercicios</b> (3.1, 3.2, 3.3 y 3.4)\n",
        "\n"
      ],
      "metadata": {
        "id": "IWZvrVqQdj7j"
      }
    },
    {
      "cell_type": "markdown",
      "source": [
        "### **Ejercicio 3.1:** Descuento basado en la edad\n",
        "\n",
        "Pide al usuario ingresar su edad y usa condicionales para aplicar los siguientes descuentos:\n",
        "- Si es menor de 18 años, obtiene un 50% de descuento.\n",
        "- Si tiene entre 18 y 65 años, obtiene un 10% de descuento.\n",
        "- Si es mayor de 65 años, obtiene un 30% de descuento."
      ],
      "metadata": {
        "id": "EJzPg53OcKfq"
      }
    },
    {
      "cell_type": "code",
      "source": [
        "############### Descuento Basado en Edad ###################\n",
        "#1.Genero el input para pedir la edad y almaceno en variable\n",
        "input_edad = input(\"Ingrese su edad:\")\n",
        "#2.Genero la estructura if\n",
        "if input_edad.isdigit(): # Valido si el valor es un numero entero positivo\n",
        "  input_edad = int(input_edad) # Transformo a entero para las igualdades\n",
        "  if input_edad < 18 and input_edad > 0 :\n",
        "    print (\"Felicidades! tienes un descuento del 50%\")\n",
        "  elif input_edad >= 18 and input_edad <= 65 :\n",
        "    print (\"Felicidades! tienes un descuento del 10%\")\n",
        "  elif input_edad > 65 and input_edad < 150 : #Coloque limite a una edad muy elevada\n",
        "    print (\"Felicidades! tienes un descuento del 30%\")\n",
        "  else:\n",
        "    print(\"Dato invalido, ingrese su edad real\")\n",
        "else:\n",
        "  print(\"Dato invalido, ingrese un número entero\")"
      ],
      "metadata": {
        "id": "VVMuKfgJcboa",
        "colab": {
          "base_uri": "https://localhost:8080/"
        },
        "outputId": "caaf2dcf-01ec-4b3b-bbb7-d82208874cbd"
      },
      "execution_count": null,
      "outputs": [
        {
          "output_type": "stream",
          "name": "stdout",
          "text": [
            "Ingrese su edad:25\n",
            "Felicidades!, tienes un descuento del 10%\n"
          ]
        }
      ]
    },
    {
      "cell_type": "markdown",
      "source": [
        "### **Ejercicio 3.2:** Estado de la temperatura\n",
        "\n",
        "Crea un programa que pida al usuario la temperatura en su ciudad y determine:\n",
        "- Si es mayor de 30 grados, imprime \"Hace mucho calor\".\n",
        "- Si está entre 20 y 30 grados, imprime \"El clima es agradable\".\n",
        "- Si es menor de 20 grados, imprime \"Hace frío\"."
      ],
      "metadata": {
        "id": "MNpnEUpOcdKz"
      }
    },
    {
      "cell_type": "code",
      "source": [
        "############### Estado de la temperatura ##############\n",
        "#1.Genero el input con float para pedir la temperatura\n",
        "temp = float(input(\"Ingrese la temperatura en su ciudad en grados Celsius:\"))\n",
        "#2.Genero la estructura if\n",
        "if temp > 30 and temp < 60 : #Coloco limite a una temperatura muy alta\n",
        "  print(\"Hace mucho calor.\")\n",
        "elif temp <= 30 and temp >= 20 :\n",
        "  print(\"El clima es agradable\")\n",
        "elif temp <= 20 and temp >= -70 : #Coloco limite a una temperatura muy baja\n",
        "  print(\"Hace frío.\")\n",
        "else:\n",
        "  print(\"Ingrese una temperatura real.\")"
      ],
      "metadata": {
        "id": "FjZaLK8jcbeg",
        "colab": {
          "base_uri": "https://localhost:8080/"
        },
        "outputId": "5f1e148e-0447-4b24-b4e3-07b1a38b90b6"
      },
      "execution_count": null,
      "outputs": [
        {
          "output_type": "stream",
          "name": "stdout",
          "text": [
            "Ingrese la temperatura en su ciudad en grados Celsius:40\n",
            "Hace mucho calor.\n"
          ]
        }
      ]
    },
    {
      "cell_type": "markdown",
      "source": [
        "### **Ejercicio 3.3:** Sistema de votación\n",
        "\n",
        "Crea un programa que determine si una persona puede votar. Pide al usuario su nacionalidad y edad.\n",
        "- Si la persona es de nacionalidad \"Peruana\" y mayor de 18 años, permite que vote.\n",
        "- Si es menor de edad o no es de esa nacionalidad, no puede votar."
      ],
      "metadata": {
        "id": "wzpS2BZ2cOJB"
      }
    },
    {
      "cell_type": "code",
      "source": [
        "############### Sistema de Votación ##############\n",
        "#1.Genero los inputs con para pedir los datos y transformo el texto al almacenar\n",
        "nac,edad = input(\"Ingrese su nacionalidad:\").upper().strip(), float(input(\"Ingrese su edad:\"))\n",
        "#2.Genero la estructura if\n",
        "if nac == \"PERUANA\" and edad >= 18:\n",
        "  print(\"Usted puede votar\")\n",
        "else:\n",
        "  print(\"No puede votar\")"
      ],
      "metadata": {
        "id": "BwhouFwKcVyx",
        "colab": {
          "base_uri": "https://localhost:8080/"
        },
        "outputId": "c83443c4-a988-4800-ae5a-2fb21d313df5"
      },
      "execution_count": null,
      "outputs": [
        {
          "output_type": "stream",
          "name": "stdout",
          "text": [
            "Ingrese su nacionalidad:peruana\n",
            "Ingrese su edad:1\n",
            "No puede votar\n"
          ]
        }
      ]
    },
    {
      "cell_type": "markdown",
      "source": [
        "### **Ejercicio 3.4:** Notas de estudiantes\n",
        "\n",
        "Escribe un programa que determine la calificación de un estudiante en función de su nota:\n",
        "- Si la nota es mayor o igual a 90: \"Sobresaliente\".\n",
        "- Si está entre 70 y 89: \"Aprobado\".\n",
        "- Si es menor de 70: \"Desaprobado\"."
      ],
      "metadata": {
        "id": "kgLRvrDFcVby"
      }
    },
    {
      "cell_type": "code",
      "source": [
        "############### Notas de estudiantes ##############\n",
        "#1.Genero el input para pedir el dato\n",
        "nota = float(input(\"Ingrese su nota:\"))\n",
        "#2.Genero la estructura if\n",
        "if nota >= 90 and nota < 100 : #Limito la nota hastaa 100\n",
        "  print(\"Felicidades su nota es SOBRESALIENTE\")\n",
        "elif nota >= 70 and nota < 90:\n",
        "  print(\"Felicidades su nota es APROBADO\")\n",
        "elif nota < 70 and nota >= 0 : #Limito la nota desde 0\n",
        "  print (\"Su nota es DESAPROBADO\")\n",
        "else:\n",
        "  print(\"Nota inválida. Ingrese una nota entre 0 y 100\")"
      ],
      "metadata": {
        "id": "Jiyq-rQadUCS",
        "colab": {
          "base_uri": "https://localhost:8080/"
        },
        "outputId": "49080b09-28e0-477e-a33e-e5841b9154ff"
      },
      "execution_count": null,
      "outputs": [
        {
          "output_type": "stream",
          "name": "stdout",
          "text": [
            "Ingrese su nota:0\n",
            "Su nota es DESAPROBADO\n"
          ]
        }
      ]
    },
    {
      "cell_type": "markdown",
      "source": [
        "## <b>2. Desafíos</b> (1 y 2)"
      ],
      "metadata": {
        "id": "7fIF_jYydTxb"
      }
    },
    {
      "cell_type": "markdown",
      "source": [
        "### Desafío 1: Calculadora de propinas inteligente\n",
        "\n",
        "Crea un programa que simule una calculadora de propinas en un restaurante. El programa debe:\n",
        "\n",
        "- Pedir al usuario que ingrese el total de la cuenta.\n",
        "- Pedir el porcentaje de propina que le gustaría dejar (por ejemplo, 10%, 15%, 20%).\n",
        "\n",
        "Usar condicionales para sugerir automáticamente un valor si no se ingresa un porcentaje, basándose en la experiencia:\n",
        "\n",
        "- Si el servicio fue excelente, sugerir 20%.\n",
        "- Si el servicio fue bueno, sugerir 15%.\n",
        "- Si el servicio fue mediocre, sugerir 10%.\n",
        "- Si el servicio fue malo, no sugerir propina.\n",
        "\n",
        "Calcular e imprimir la cantidad de propina y el total a pagar (cuenta + propina)."
      ],
      "metadata": {
        "id": "u7_YfFS-doj8"
      }
    },
    {
      "cell_type": "code",
      "source": [
        "############### Calculadora de propinas inteligente ##############\n",
        "#1.Genero el input para pedir el dato\n",
        "cuenta = float(input(\"Ingrese el total de la cuenta: \"))\n",
        "propina = input(\"Ingrese el porcentaje de la propina que le gustaría dejar (por ejemplo: 10, 15, 20, etc): \")\n",
        "\n",
        "if propina == \"\":\n",
        "  servicio = input(\"Describa su experiencia con el servicio (Excelente, bueno, mediocre o malo)\")\n",
        "  if servicio.upper().strip() == \"EXCELENTE\":\n",
        "    print(\"Agradecemos que le haya gustado la experiencia. Le sugerimos una propina del 20%\")\n",
        "    temp = input(\"¿Aceptaría, esta propuesta? (Si / No): \")\n",
        "    if temp.upper().strip() == \"SI\":\n",
        "      propina = 20\n",
        "    else:\n",
        "      print(\"Se tomará como 0%, gracias\")\n",
        "      propina = 0\n",
        "  elif servicio.upper().strip() == \"BUENO\":\n",
        "    print(\"Agradecemos que le haya gustado la experiencia. Le sugerimos una propina del 15%\")\n",
        "    temp = input(\"¿Aceptaría, esta propuesta? (Si / No): \")\n",
        "    if temp.upper().strip() == \"SI\":\n",
        "      propina = 15\n",
        "    else:\n",
        "      print(\"Se tomará como 0%, gracias\")\n",
        "      propina = 0\n",
        "  elif servicio.upper().strip() == \"MEDIOCRE\":\n",
        "    print(\"Aumentaremos nuestro esfuerzo en brindarle mejores servicios. Le sugerimos una propina del 10%\")\n",
        "    temp = input(\"¿Aceptaría, esta propuesta? (Si / No): \")\n",
        "    if temp.upper().strip() == \"SI\":\n",
        "      propina = 10\n",
        "    else:\n",
        "      print(\"Se tomará como 0%, gracias\")\n",
        "      propina = 0\n",
        "  elif servicio.upper().strip() == \"MALO\":\n",
        "    print(\"La mentamos ello, aumentaremos nuestro esfuerzo en brindarle mejores servicios.\")\n",
        "    propina = 0\n",
        "  else:\n",
        "    print(\"Experiencia no válida. Se tomará como 0%.\")\n",
        "    propina = 0\n",
        "else :\n",
        "  propina = float(propina) * cuenta / 100\n",
        "\n",
        "total = cuenta + propina\n",
        "\n",
        "print(f\"Cantidad de propina: S/ {propina:.2f}\")\n",
        "print(f\"Total a pagar: S/ {total:.2f}\")\n"
      ],
      "metadata": {
        "id": "knQmdE7zdI97",
        "colab": {
          "base_uri": "https://localhost:8080/"
        },
        "outputId": "6674a52b-129e-4565-b9c7-deb2c19ee192"
      },
      "execution_count": null,
      "outputs": [
        {
          "output_type": "stream",
          "name": "stdout",
          "text": [
            "Ingrese el total de la cuenta: 50\n",
            "Ingrese el porcentaje de la propina que le gustaría dejar (por ejemplo: 10, 15, 20, etc): \n",
            "Describa su experiencia con el servicio (Excelente, bueno, mediocre o malo)malo\n",
            "La mentamos ello, aumentaremos nuestro esfuerzo en brindarle mejores servicios.\n",
            "Cantidad de propina: S/0.00\n",
            "Total a pagar: S/ 50.00\n"
          ]
        }
      ]
    },
    {
      "cell_type": "markdown",
      "source": [
        "### Desafío 2: Clasificación de Números\n",
        "\n",
        "Escribe un programa que clasifique un número dado por el usuario según sus características numéricas. El programa debe:\n",
        "\n",
        "Pedir al usuario que ingrese un número entero.\n",
        "\n",
        "Determinar si el número es:\n",
        "- Par o impar.\n",
        "- Positivo, negativo o cero.\n",
        "- Primo o no primo (un número primo solo es divisible por 1 y por sí mismo).\n",
        "- Imprimir una clasificación completa del número según las tres categorías anteriores."
      ],
      "metadata": {
        "id": "X9fY20bQdpFU"
      }
    },
    {
      "cell_type": "code",
      "source": [
        "############### Clasificación de Números ##############\n",
        "#1.Genero el input para pedir el dato y defino una variable cat\n",
        "x = int(input(\"Ingrese un número entero:\"))\n",
        "cat = \"El numero ingresado es\"\n",
        "#2.Genero la estructura if para saber si es par\n",
        "if x == 0 :\n",
        "  cat = cat + \" Cero\"\n",
        "elif (x % 2) == 0:\n",
        "  cat = cat + \" Par\"\n",
        "else:\n",
        "  cat = cat + \" Impar\"\n",
        "#3.Genero la estructura if para saber si es positivo, negativo o cero\n",
        "if x == 0:\n",
        "  cat = cat\n",
        "elif x < 0:\n",
        "  cat = cat + \", es negativo\"\n",
        "else:\n",
        "  cat = cat + \", es positivo\"\n",
        "#2.Genero la estructura if para saber si es primo o no primo\n",
        "if abs(x) <=1:\n",
        "  cat = cat + \" y no es primo.\"\n",
        "else:\n",
        "  primo = 0\n",
        "  for i in range(2,abs(x)-1,1):\n",
        "    if (abs(x) % i) == 0:\n",
        "      primo = primo + 1\n",
        "  if primo == 0:\n",
        "    cat = cat + \" y es primo.\"\n",
        "  else:\n",
        "    cat = cat + \" y no es primo.\"\n",
        "\n",
        "print(cat)"
      ],
      "metadata": {
        "id": "tiJTr9tGdVXb",
        "colab": {
          "base_uri": "https://localhost:8080/"
        },
        "outputId": "1f0b09a5-3459-4823-bf7f-c75a1f772a32"
      },
      "execution_count": null,
      "outputs": [
        {
          "output_type": "stream",
          "name": "stdout",
          "text": [
            "Ingrese un número entero:0\n",
            "El numero ingresado es Cero y no es primo.\n"
          ]
        }
      ]
    }
  ]
}