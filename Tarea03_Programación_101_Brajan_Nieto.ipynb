{
  "nbformat": 4,
  "nbformat_minor": 0,
  "metadata": {
    "colab": {
      "provenance": [],
      "authorship_tag": "ABX9TyPm2iCeb/0EKaMqddEYaO+y",
      "include_colab_link": true
    },
    "kernelspec": {
      "name": "python3",
      "display_name": "Python 3"
    },
    "language_info": {
      "name": "python"
    }
  },
  "cells": [
    {
      "cell_type": "markdown",
      "metadata": {
        "id": "view-in-github",
        "colab_type": "text"
      },
      "source": [
        "<a href=\"https://colab.research.google.com/github/BrajanNieto/Tareas_Programacion101_BrajanNieto/blob/main/Tarea03_Programaci%C3%B3n_101_Brajan_Nieto.ipynb\" target=\"_parent\"><img src=\"https://colab.research.google.com/assets/colab-badge.svg\" alt=\"Open In Colab\"/></a>"
      ]
    },
    {
      "cell_type": "markdown",
      "source": [
        "#**Tarea 03 - Programación 101**\n",
        "\n",
        "---\n",
        "\n",
        "\n",
        "## Maestría de Ciencia de Datos e Inteligencia Artificial\n",
        "### Programación 101\n",
        "\n",
        "---\n",
        "\n",
        "\n",
        "**Profesor del curso:**  \n",
        "Mg. John Caballero Terrazos  \n",
        "[jcaballero@utec.edu.pe](mailto:jcaballero@utec.edu.pe)\n",
        "\n",
        "\\\n",
        "**Maestrante:**  \n",
        "Bach. Brajan Esteban Nieto Espinoza  \n",
        "[brajan.nieto@utec.edu.pe](mailto:brajan.nieto@utec.edu.pe)\n",
        "\n",
        "<img src=\"https://pregrado.utec.edu.pe/sites/default/files/logo-utec-h_0_0.svg\" width=\"190\" alt=\"Logo UTEC\" loading=\"lazy\" typeof=\"foaf:Image\">\n",
        "\n",
        "\n",
        "---"
      ],
      "metadata": {
        "id": "QlyiNHkQbZe7"
      }
    },
    {
      "cell_type": "markdown",
      "source": [
        "## <b>1. Desafíos</b>"
      ],
      "metadata": {
        "id": "7fIF_jYydTxb"
      }
    },
    {
      "cell_type": "markdown",
      "source": [
        "### **Desafío 1:** Análisis de ventas de productos electrónicos\n",
        "\n",
        "Eres el encargado de un almacén de productos electrónicos. Tienes un registro de ventas semanales para teléfonos, laptops y tabletas. Necesitas analizar las ventas para mejorar la gestión.\n",
        "\n",
        "####Objetivos\n",
        "* Crea tres listas: una para teléfonos, otra para laptops y otra para tabletas con las ventas de cada día durante una semana.\n",
        "* Usa slicing para obtener las ventas de los últimos 3 días de cada producto.\n",
        "* Usa listas por comprensión para calcular el total de ventas de cada producto y el promedio de ventas diarias.\n",
        "* Clasifica los productos en \"ventas altas\" o \"ventas bajas\" según si el promedio de ventas es mayor o menor a 5.\n",
        "\n",
        "####Instrucciones:\n",
        "Usa sum() y len() para calcular el total de ventas y el promedio. Clasifica las ventas usando listas por comprensión.\n"
      ],
      "metadata": {
        "id": "u7_YfFS-doj8"
      }
    },
    {
      "cell_type": "code",
      "source": [
        "import numpy as np"
      ],
      "metadata": {
        "id": "GUrt8idznaMh"
      },
      "execution_count": 30,
      "outputs": []
    },
    {
      "cell_type": "code",
      "source": [
        "############### Defino las 3 listas con ventas por la semana con random de numpy ##############\n",
        "#1.Creo las listas para las ventas aleatorias, como 5 es = a ventas altas genero con valores del 1 al 10.\n",
        "venta_tel = np.random.randint(1, 11, 7)\n",
        "venta_lap = np.random.randint(1, 11, 7)\n",
        "venta_tab = np.random.randint(1, 11, 7)\n"
      ],
      "metadata": {
        "id": "knQmdE7zdI97"
      },
      "execution_count": 31,
      "outputs": []
    },
    {
      "cell_type": "code",
      "source": [
        "#2.Imprimo las ventas de los 3 ultimos días para cada producto\n",
        "print(f\"Tres ultimas ventas de telefono: {list(venta_tel[-3:,])}\")\n",
        "print(f\"Tres ultimas ventas de laptos: {list(venta_lap[-3:,])}\")\n",
        "print(f\"Tres ultimas ventas de tabletas: {list(venta_tab[-3:,])}\")"
      ],
      "metadata": {
        "id": "t5JQbUIVjq8z",
        "outputId": "3a8b741f-ccec-4011-fb39-b8138918dc83",
        "colab": {
          "base_uri": "https://localhost:8080/"
        }
      },
      "execution_count": 32,
      "outputs": [
        {
          "output_type": "stream",
          "name": "stdout",
          "text": [
            "Tres ultimas ventas de telefono: [6, 4, 8]\n",
            "Tres ultimas ventas de laptos: [8, 3, 4]\n",
            "Tres ultimas ventas de tabletas: [3, 1, 10]\n"
          ]
        }
      ]
    },
    {
      "cell_type": "code",
      "source": [
        "#3.Calculo el total de ventas de cada producto y promedio de ventas diarias:\n",
        "print(\"Venta total de cada producto\")\n",
        "print(f\"La venta total de las telefonos es: {sum([x for x in venta_tel])}\")\n",
        "print(f\"La venta total de las telefonos es: {sum([x for x in venta_lap])}\")\n",
        "print(f\"La venta total de las telefonos es: {sum([x for x in venta_tab])}\")\n",
        "\n",
        "print(\"Venta promedio por día\")\n",
        "print(f\"La venta promedio por día es: {list(np.round((venta_tel + venta_lap + venta_tab) / 3, 2))}\")"
      ],
      "metadata": {
        "id": "pV_ZUPfFpxwM",
        "outputId": "e5f11153-2deb-4477-9e40-526a3cf6ea37",
        "colab": {
          "base_uri": "https://localhost:8080/"
        }
      },
      "execution_count": 33,
      "outputs": [
        {
          "output_type": "stream",
          "name": "stdout",
          "text": [
            "Venta total de cada producto\n",
            "La venta total de las telefonos es: 35\n",
            "La venta total de las telefonos es: 51\n",
            "La venta total de las telefonos es: 30\n",
            "Venta promedio por día\n",
            "La venta promedio por día es: [6.0, 6.67, 3.67, 6.67, 5.67, 2.67, 7.33]\n"
          ]
        }
      ]
    },
    {
      "cell_type": "code",
      "source": [
        "#4.Calculo si el dia tuvo buenas o malas ventas:\n",
        "\n",
        "clasif = [\"Buenas Ventas\" if x > 5 else \"Malas ventas\" for x in np.round((venta_tel + venta_lap + venta_tab) / 3, 2)]\n",
        "dias_de_semana = [\"Lunes\", \"Martes\", \"Miércoles\", \"Jueves\", \"Viernes\", \"Sábado\", \"Domingo\"]\n",
        "clasif_ventas = dict(zip(dias_de_semana, clasif))\n",
        "\n",
        "print(clasif_ventas)"
      ],
      "metadata": {
        "id": "dbRy4SlutW-d",
        "outputId": "72ac70a4-9a2b-4704-f0fc-1f9b27c1e565",
        "colab": {
          "base_uri": "https://localhost:8080/"
        }
      },
      "execution_count": 34,
      "outputs": [
        {
          "output_type": "stream",
          "name": "stdout",
          "text": [
            "{'Lunes': 'Buenas Ventas', 'Martes': 'Buenas Ventas', 'Miércoles': 'Malas ventas', 'Jueves': 'Buenas Ventas', 'Viernes': 'Buenas Ventas', 'Sábado': 'Malas ventas', 'Domingo': 'Buenas Ventas'}\n"
          ]
        }
      ]
    }
  ]
}