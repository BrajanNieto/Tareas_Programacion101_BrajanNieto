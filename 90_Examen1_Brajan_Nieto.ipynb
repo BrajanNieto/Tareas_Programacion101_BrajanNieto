{
  "nbformat": 4,
  "nbformat_minor": 0,
  "metadata": {
    "colab": {
      "provenance": [],
      "authorship_tag": "ABX9TyP8Pg+PkVK0hedekIaDJP6+",
      "include_colab_link": true
    },
    "kernelspec": {
      "name": "python3",
      "display_name": "Python 3"
    },
    "language_info": {
      "name": "python"
    }
  },
  "cells": [
    {
      "cell_type": "markdown",
      "metadata": {
        "id": "view-in-github",
        "colab_type": "text"
      },
      "source": [
        "<a href=\"https://colab.research.google.com/github/BrajanNieto/Tareas_Programacion101_BrajanNieto/blob/main/90_Examen1_Brajan_Nieto.ipynb\" target=\"_parent\"><img src=\"https://colab.research.google.com/assets/colab-badge.svg\" alt=\"Open In Colab\"/></a>"
      ]
    },
    {
      "cell_type": "code",
      "execution_count": 41,
      "metadata": {
        "colab": {
          "base_uri": "https://localhost:8080/"
        },
        "id": "YOQG7ONE-bmi",
        "outputId": "c6ef59d1-8fda-44f0-e6d4-676e0ecce05d"
      },
      "outputs": [
        {
          "output_type": "stream",
          "name": "stdout",
          "text": [
            "[['#' '#' '#' '#' '#']\n",
            " ['#' ' ' ' ' ' ' '#']\n",
            " ['#' ' ' ' ' ' ' '#']\n",
            " ['#' ' ' ' ' ' ' '#']\n",
            " ['#' '#' '#' '#' '#']]\n"
          ]
        }
      ],
      "source": [
        "import numpy as np\n",
        "# Defino la variable lados que representa el orden de la matriz le asigno el valor 5\n",
        "lados = 5\n",
        "\n",
        "# Con el orden de la matriz 5 creo la matriz con # en los bordes par alos bordes se debe cumplir i=0 o i=4 =lados -1 j=0 o j= 4\n",
        "\n",
        "laberinto = [ ['#' if i == 0 or i == lados - 1 or j == 0 or j == lados - 1 else ' ' for j in range(lados)] for i in range(lados)]\n",
        "\n",
        "# En clase vimos que para mostrar una matriz por filas usamos np array y no un array normal de listas que imprime todo en una misma fila\n",
        "print(np.array(laberinto))"
      ]
    },
    {
      "cell_type": "code",
      "source": [
        "# Coloco p asignando a la primera posición ya que comienza por 0 la posicion 1 1 es el primer espacio libre\n",
        "laberinto[1][1] = 'P'\n",
        "\n",
        "# Imprimo nuevamente como array de numpy pero uso slicing para mostrar las dos primeras filas\n",
        "print(np.array(laberinto[:2]))"
      ],
      "metadata": {
        "colab": {
          "base_uri": "https://localhost:8080/"
        },
        "id": "vwiEODzaA9D5",
        "outputId": "9e2ecd3e-36ca-4f91-a00b-6ff6494f8e08"
      },
      "execution_count": 42,
      "outputs": [
        {
          "output_type": "stream",
          "name": "stdout",
          "text": [
            "[['#' '#' '#' '#' '#']\n",
            " ['#' 'P' ' ' ' ' '#']]\n"
          ]
        }
      ]
    },
    {
      "cell_type": "code",
      "source": [
        "#Defino el inventario\n",
        "inventario = {}\n",
        "\n",
        "#El jugador encuentra el objeto pocion\n",
        "objeto = 'poción'\n",
        "# Agregar el objeto al inventario\n",
        "if objeto in inventario:\n",
        "    inventario[objeto] += 1\n",
        "else:\n",
        "    inventario[objeto] = 1\n",
        "\n",
        "#El jugador vuelv a encontrar el objeto poción\n",
        "objeto = 'poción'\n",
        "# Agregar el objeto al inventario\n",
        "if objeto in inventario:\n",
        "    inventario[objeto] += 1\n",
        "else:\n",
        "    inventario[objeto] = 1\n",
        "\n",
        "#El jugador encuentra el objeto cuchillo\n",
        "objeto = 'cuchillo'\n",
        "# Agregar el objeto al inventario\n",
        "if objeto in inventario:\n",
        "    inventario[objeto] += 1\n",
        "else:\n",
        "    inventario[objeto] = 1\n",
        "\n",
        "#El jugador encuentra el objeto llave\n",
        "objeto = 'llave'\n",
        "# Agregar el objeto al inventario\n",
        "if objeto in inventario:\n",
        "    inventario[objeto] += 1\n",
        "else:\n",
        "    inventario[objeto] = 1\n",
        "\n",
        "\n",
        "# Imprimo el inventario\n",
        "print(inventario)"
      ],
      "metadata": {
        "colab": {
          "base_uri": "https://localhost:8080/"
        },
        "id": "5zOmQgI3CdTa",
        "outputId": "459a4b08-359c-431c-ecee-9c5e5633559e"
      },
      "execution_count": 43,
      "outputs": [
        {
          "output_type": "stream",
          "name": "stdout",
          "text": [
            "{'poción': 2, 'cuchillo': 1, 'llave': 1}\n"
          ]
        }
      ]
    },
    {
      "cell_type": "code",
      "source": [
        "# Defino la lista de objetos unicos\n",
        "objetos_unicos = ['espada', 'escudo', 'poción', 'llave']\n",
        "\n",
        "# Supongamos que el inventario sea el mismo que el anterior\n",
        "inventario = {'poción': 2, 'cuchillo': 1, 'llave': 1}\n",
        "\n",
        "# Extraigo los objetos que están en objetos_unicos dentro de inventario que serían 2 (pocion y llave)\n",
        "objetos_encontrados = [x for x in inventario if x in objetos_unicos]\n",
        "\n",
        "# Convierto la lista objetos_encontrado en set, esto de por si elimina duplicados debido ala propiedad set\n",
        "set_objetos = set(objetos_encontrados)\n",
        "\n",
        "# Imprimo el set finaal\n",
        "print(set_objetos)"
      ],
      "metadata": {
        "colab": {
          "base_uri": "https://localhost:8080/"
        },
        "id": "I6MMTb7UDrbl",
        "outputId": "b376cc7a-c1de-4d6d-90af-c78f8e31a1db"
      },
      "execution_count": 44,
      "outputs": [
        {
          "output_type": "stream",
          "name": "stdout",
          "text": [
            "{'poción', 'llave'}\n"
          ]
        }
      ]
    },
    {
      "cell_type": "code",
      "source": [
        "# Ahora pregunto que objeto encontro para usar el input y lo asignamos como variable string manipulo con strip() por si hay espacios\n",
        "objeto_nuevo = str(input(\"QUe nuevo objeto encontraste\")).strip().lower()\n",
        "# Utilizo lower ya que en el inventario estan todos asignados de esta manera al usar input se sugiere colocar '    lLave  ' para probar el programa\n",
        "# Defino el mismo inventario de arriba\n",
        "inventario = {'poción': 2, 'cuchillo': 1, 'llave': 1}\n",
        "\n",
        "# Agregar el objeto al inventario somo se hizo arriba\n",
        "if objeto_nuevo  in inventario:\n",
        "    inventario[objeto_nuevo] += 1\n",
        "else:\n",
        "    inventario[objeto_nuevo] = 1\n",
        "\n",
        "# Para btener la cantidad total del objeto en el inventario llamo a su Value atraves del Key\n",
        "cantidad = inventario[objeto_nuevo]\n",
        "\n",
        "# Se muestra el mensaje final\n",
        "print(f\" ENCONTRASTE EL OBJETO: {objeto_nuevo.upper()}! FELICIDADES AHORA TIENES {cantidad} {objeto_nuevo.upper()}{'S' if cantidad > 1 else ''}.\")"
      ],
      "metadata": {
        "colab": {
          "base_uri": "https://localhost:8080/"
        },
        "id": "hm1YsMDnGLqX",
        "outputId": "47bace96-39c5-4bc0-9354-4eab5d945595"
      },
      "execution_count": 45,
      "outputs": [
        {
          "output_type": "stream",
          "name": "stdout",
          "text": [
            "QUe nuevo objeto encontrastellave\n",
            " ENCONTRASTE EL OBJETO: LLAVE! FELICIDADES AHORA TIENES 2 LLAVES.\n"
          ]
        }
      ]
    },
    {
      "cell_type": "code",
      "source": [
        "# Listo de las trampas\n",
        "trampas = [(1, 2), (3, 4), (2, 2)]\n",
        "\n",
        "# Convierto a set las trampas para eliminar duplciados\n",
        "set_trampas = set(trampas)\n",
        "\n",
        "# Salud y posicion a criterio\n",
        "salud = 100\n",
        "pos_jugador = (2,1)\n",
        "\n",
        "# Verificamos  si la posición actual del jugador es una trampa o no\n",
        "if pos_jugador in set_trampas:\n",
        "    salud -= 10  # Reduce la salud en 10 puntos\n",
        "    print(\"Has caído en una trampa! Tu salud es ahora:\", salud)\n",
        "else:\n",
        "    print(\"Salvado. Tu salud es:\", salud)\n",
        "\n",
        "# Imprimimo otra vez con una posicion igual ala trampa para probar\n",
        "\n",
        "pos_jugador = (2,2)\n",
        "\n",
        "# Verificamos  si la posición actual del jugador es una trampa o no\n",
        "if pos_jugador in set_trampas:\n",
        "    salud -= 10  # Reduce la salud en 10 puntos\n",
        "    print(\"Has caído en una trampa! Tu salud es ahora:\", salud)\n",
        "else:\n",
        "    print(\"Salvado. Tu salud es ahora:\", salud)"
      ],
      "metadata": {
        "colab": {
          "base_uri": "https://localhost:8080/"
        },
        "id": "5Sne9ivZJ1el",
        "outputId": "f57fb8fa-2f9d-4e4a-840d-33e6837ae422"
      },
      "execution_count": 46,
      "outputs": [
        {
          "output_type": "stream",
          "name": "stdout",
          "text": [
            "Salvado. Tu salud es: 100\n",
            "Has caído en una trampa! Tu salud es ahora: 90\n"
          ]
        }
      ]
    },
    {
      "cell_type": "code",
      "source": [
        "# Supongamos que el jugador hara un movimiento desde 2,2 hacia la derecha\n",
        "pos_jugador = (1,1)\n",
        "pos_anterior = pos_jugador\n",
        "nueva_posicion = (pos_jugador[0], pos_jugador[1] + 1)\n",
        "\n",
        "# Verificar que la nueva posición no sea una pared\n",
        "if laberinto[nueva_posicion[0]][nueva_posicion[1]] != '#':\n",
        "    # actualiza la matriz\n",
        "    laberinto[pos_anterior[0]][pos_anterior[1]] = ' '  # asigno  espacio en la posición anterior\n",
        "    laberinto[nueva_posicion[0]][nueva_posicion[1]] = 'P'  # colco p en la nueva posición\n",
        "    pos_jugador = nueva_posicion  # actualiza nueva pos\n",
        "else:\n",
        "    print(\"¡Movimiento inválido! Hay una pared.\")\n",
        "\n",
        "# imprime laberinto\n",
        "print(np.array(laberinto))\n",
        "#se comprubea que s emueve"
      ],
      "metadata": {
        "colab": {
          "base_uri": "https://localhost:8080/"
        },
        "id": "q38tUFPJLJK5",
        "outputId": "5993fa22-08b9-448a-f11a-fe799a60b446"
      },
      "execution_count": 48,
      "outputs": [
        {
          "output_type": "stream",
          "name": "stdout",
          "text": [
            "[['#' '#' '#' '#' '#']\n",
            " ['#' ' ' 'P' ' ' '#']\n",
            " ['#' ' ' ' ' ' ' '#']\n",
            " ['#' ' ' ' ' ' ' '#']\n",
            " ['#' '#' '#' '#' '#']]\n"
          ]
        }
      ]
    }
  ]
}