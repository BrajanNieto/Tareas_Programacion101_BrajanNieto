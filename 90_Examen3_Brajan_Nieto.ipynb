{
  "nbformat": 4,
  "nbformat_minor": 0,
  "metadata": {
    "colab": {
      "provenance": [],
      "include_colab_link": true
    },
    "kernelspec": {
      "name": "python3",
      "display_name": "Python 3"
    },
    "language_info": {
      "name": "python"
    }
  },
  "cells": [
    {
      "cell_type": "markdown",
      "metadata": {
        "id": "view-in-github",
        "colab_type": "text"
      },
      "source": [
        "<a href=\"https://colab.research.google.com/github/BrajanNieto/Tareas_Programacion101_BrajanNieto/blob/main/90_Examen3_Brajan_Nieto.ipynb\" target=\"_parent\"><img src=\"https://colab.research.google.com/assets/colab-badge.svg\" alt=\"Open In Colab\"/></a>"
      ]
    },
    {
      "cell_type": "markdown",
      "source": [
        "#**Práctica 03 - Programación 101**\n",
        "## Maestría de Ciencia de Datos e Inteligencia Artificial\n",
        "### Programación 101\n",
        "\n",
        "**Profesor del curso:**  \n",
        "Mg. John Caballero Terrazos  \n",
        "[jcaballero@utec.edu.pe](mailto:jcaballero@utec.edu.pe)\n",
        "\n",
        "**Maestrante:**  \n",
        "Bach. Brajan Esteban Nieto Espinoza  \n",
        "[brajan.nieto@utec.edu.pe](mailto:brajan.nieto@utec.edu.pe)\n",
        "\n",
        "<img src=\"https://pregrado.utec.edu.pe/sites/default/files/logo-utec-h_0_0.svg\" width=\"190\" alt=\"Logo UTEC\" loading=\"lazy\" typeof=\"foaf:Image\">"
      ],
      "metadata": {
        "id": "_9GhAtAbKeUj"
      }
    },
    {
      "cell_type": "markdown",
      "source": [],
      "metadata": {
        "id": "oXoMtNjhJnqR"
      }
    },
    {
      "cell_type": "code",
      "source": [
        "# Librerías para el Exámen\n",
        "import numpy as np\n",
        "import matplotlib.pyplot as plt"
      ],
      "metadata": {
        "id": "NDXFuO45KRio"
      },
      "execution_count": 43,
      "outputs": []
    },
    {
      "cell_type": "markdown",
      "source": [
        "## Pregunta 1"
      ],
      "metadata": {
        "id": "gKOxp8NTJ4Pc"
      }
    },
    {
      "cell_type": "markdown",
      "source": [
        "a) Crear un array unidimensional que contenga los números primos entre 1 y 50"
      ],
      "metadata": {
        "id": "nuyQXPDoQqCl"
      }
    },
    {
      "cell_type": "code",
      "source": [
        "# Defino la función es_primos para geenerar\n",
        "def es_primo(num):\n",
        "    if num < 2:\n",
        "        return False\n",
        "    for i in range(2, int(np.sqrt(num)) + 1):\n",
        "        if num % i == 0:\n",
        "            return False\n",
        "    return True\n",
        "#Uso la función creando un array y printeo.\n",
        "primos = np.array([x for x in range(1, 51) if es_primo(x)])\n",
        "print(\"Numeros Primos (Del 1 al 50):\", primos)"
      ],
      "metadata": {
        "colab": {
          "base_uri": "https://localhost:8080/"
        },
        "id": "Sp76Np0HKLQq",
        "outputId": "bac91a34-c82e-4e90-d56d-8171cc1afa99"
      },
      "execution_count": 2,
      "outputs": [
        {
          "output_type": "stream",
          "name": "stdout",
          "text": [
            "Numeros Primos (Del 1 al 50): [ 2  3  5  7 11 13 17 19 23 29 31 37 41 43 47]\n"
          ]
        }
      ]
    },
    {
      "cell_type": "markdown",
      "source": [
        "b) Convierte el array unidimensional anterior en una matriz de forma (n, 2), donde n es el número adecuado de\n",
        "filas. Si es necesario, agrega ceros al final del array para completar la matriz."
      ],
      "metadata": {
        "id": "eUVgAxxJKd4f"
      }
    },
    {
      "cell_type": "code",
      "source": [
        "# Para convertir el array unidimensional se evalua si es multiplo de 2 y se agrega ceros\n",
        "\n",
        "if len(primos) % 2 != 0:\n",
        "    primos = np.append(primos, 0)  # Agregar un cero  si  cumple la condición\n",
        "matrizbidimensional = primos.reshape(-1, 2)\n",
        "print(\"Matriz (n, 2):\\n\", matrizbidimensional)"
      ],
      "metadata": {
        "colab": {
          "base_uri": "https://localhost:8080/"
        },
        "id": "YsesGqw7KdvH",
        "outputId": "712e8e0c-9d94-4ac8-fc4e-e37f7202c819"
      },
      "execution_count": 3,
      "outputs": [
        {
          "output_type": "stream",
          "name": "stdout",
          "text": [
            "Matriz (n, 2):\n",
            " [[ 2  3]\n",
            " [ 5  7]\n",
            " [11 13]\n",
            " [17 19]\n",
            " [23 29]\n",
            " [31 37]\n",
            " [41 43]\n",
            " [47  0]]\n"
          ]
        }
      ]
    },
    {
      "cell_type": "markdown",
      "source": [
        "c) Calcula la suma de cada fila y crea un nuevo array que contenga estos valores."
      ],
      "metadata": {
        "id": "tHXbjqu9Kdhv"
      }
    },
    {
      "cell_type": "code",
      "source": [
        "# Creamos un array que contenga la suma por cada fila\n",
        "sumaporfilas = matrizbidimensional.sum(axis=1)\n",
        "print(\"Array de sumas de cada fila:\", sumaporfilas)"
      ],
      "metadata": {
        "colab": {
          "base_uri": "https://localhost:8080/"
        },
        "id": "1ucBw5rrKkkT",
        "outputId": "46346aca-a383-4790-fca7-71d6a2aaeb37"
      },
      "execution_count": 4,
      "outputs": [
        {
          "output_type": "stream",
          "name": "stdout",
          "text": [
            "Array de sumas de cada fila: [ 5 12 24 36 52 68 84 47]\n"
          ]
        }
      ]
    },
    {
      "cell_type": "markdown",
      "source": [
        "## Pregunta 2\n"
      ],
      "metadata": {
        "id": "_3zLAqnrKqGT"
      }
    },
    {
      "cell_type": "markdown",
      "source": [
        "a) Crea un array bidimensional de forma (4, 4) que contenga números enteros aleatorios entre 1 y 100."
      ],
      "metadata": {
        "id": "o-k4ryNTKuUb"
      }
    },
    {
      "cell_type": "code",
      "source": [
        "# Uso random.randint de forma (4, 4).\n",
        "array_aleatorio = np.random.randint(1, 101, size=(4, 4))\n",
        "print(\"Array de tamaño (4, 4):\\n\", array_aleatorio)"
      ],
      "metadata": {
        "colab": {
          "base_uri": "https://localhost:8080/"
        },
        "id": "kW984qwzKwLD",
        "outputId": "aafc164a-554e-409f-eae0-fadd215c1d1f"
      },
      "execution_count": 5,
      "outputs": [
        {
          "output_type": "stream",
          "name": "stdout",
          "text": [
            "Array de tamaño (4, 4):\n",
            " [[10 92 29 87]\n",
            " [93 50  2 58]\n",
            " [ 9 86 50 70]\n",
            " [29 55 10 19]]\n"
          ]
        }
      ]
    },
    {
      "cell_type": "markdown",
      "source": [
        "b) Cambia el tipo de datos del array a float64 y divide todos los elementos por 3.7."
      ],
      "metadata": {
        "id": "RZML6tKxKwDc"
      }
    },
    {
      "cell_type": "code",
      "source": [
        "print(\"Tipo de datos sin transformación:\", array_aleatorio.dtype)\n",
        "# Al dividir entre 3.7 se cambia automáticamente a float64.\n",
        "array_float = array_aleatorio / 3.7\n",
        "print(\"\\nArray transformado a float64 y dividido por 3.7:\\n\", array_float)\n",
        "print(\"\\nTipo de datos transformado:\", array_float.dtype)"
      ],
      "metadata": {
        "colab": {
          "base_uri": "https://localhost:8080/"
        },
        "id": "XYrCPJ2QKv6U",
        "outputId": "7cd028c1-4d8e-48fe-a746-f48282110ec0"
      },
      "execution_count": 6,
      "outputs": [
        {
          "output_type": "stream",
          "name": "stdout",
          "text": [
            "Tipo de datos sin transformación: int64\n",
            "\n",
            "Array transformado a float64 y dividido por 3.7:\n",
            " [[ 2.7027027  24.86486486  7.83783784 23.51351351]\n",
            " [25.13513514 13.51351351  0.54054054 15.67567568]\n",
            " [ 2.43243243 23.24324324 13.51351351 18.91891892]\n",
            " [ 7.83783784 14.86486486  2.7027027   5.13513514]]\n",
            "\n",
            "Tipo de datos transformado: float64\n"
          ]
        }
      ]
    },
    {
      "cell_type": "markdown",
      "source": [
        "c) Calcula y muestra las siguientes propiedades del array resultante:"
      ],
      "metadata": {
        "id": "y2s_IzArKvyb"
      }
    },
    {
      "cell_type": "code",
      "source": [
        "# Printeo todas las propiedades del array_float creado\n",
        "print(\"\\nPropiedades del array resultante:\")\n",
        "print(f\"Forma: {array_float.shape}\")\n",
        "print(f\"Tamaño total (número de elementos): {array_float.size}\")\n",
        "print(f\"Tipo de datos: {array_float.dtype}\")\n",
        "print(f\"Suma total: {array_float.sum()}\")\n",
        "print(f\"Media: {array_float.mean()}\")\n",
        "print(f\"Valor mínimo: {array_float.min()}\")\n",
        "print(f\"Valor máximo: {array_float.max()}\")"
      ],
      "metadata": {
        "colab": {
          "base_uri": "https://localhost:8080/"
        },
        "id": "dxJ_yJU6Kvob",
        "outputId": "be20421b-c7e0-43ab-ba4c-3b23c239f944"
      },
      "execution_count": 7,
      "outputs": [
        {
          "output_type": "stream",
          "name": "stdout",
          "text": [
            "\n",
            "Propiedades del array resultante:\n",
            "Forma: (4, 4)\n",
            "Tamaño total (número de elementos): 16\n",
            "Tipo de datos: float64\n",
            "Suma total: 202.43243243243245\n",
            "Media: 12.652027027027028\n",
            "Valor mínimo: 0.5405405405405405\n",
            "Valor máximo: 25.135135135135133\n"
          ]
        }
      ]
    },
    {
      "cell_type": "markdown",
      "source": [
        "## Pregunta 3"
      ],
      "metadata": {
        "id": "Y1xUdqXEK4-8"
      }
    },
    {
      "cell_type": "markdown",
      "source": [
        "a) Crea un array x que contenga 100 valores equiespaciados entre -10 y 10."
      ],
      "metadata": {
        "id": "57VwI2RaK42_"
      }
    },
    {
      "cell_type": "code",
      "source": [
        "#Utilizo linspace\n",
        "x = np.linspace(-10, 10, 100)\n",
        "print(\"Array equiespaciado:\\n\", x)"
      ],
      "metadata": {
        "colab": {
          "base_uri": "https://localhost:8080/"
        },
        "id": "PHcI03U_PmzM",
        "outputId": "104f7102-f185-47bb-d5e5-34051165b8c3"
      },
      "execution_count": 8,
      "outputs": [
        {
          "output_type": "stream",
          "name": "stdout",
          "text": [
            "Array equiespaciado:\n",
            " [-10.          -9.7979798   -9.5959596   -9.39393939  -9.19191919\n",
            "  -8.98989899  -8.78787879  -8.58585859  -8.38383838  -8.18181818\n",
            "  -7.97979798  -7.77777778  -7.57575758  -7.37373737  -7.17171717\n",
            "  -6.96969697  -6.76767677  -6.56565657  -6.36363636  -6.16161616\n",
            "  -5.95959596  -5.75757576  -5.55555556  -5.35353535  -5.15151515\n",
            "  -4.94949495  -4.74747475  -4.54545455  -4.34343434  -4.14141414\n",
            "  -3.93939394  -3.73737374  -3.53535354  -3.33333333  -3.13131313\n",
            "  -2.92929293  -2.72727273  -2.52525253  -2.32323232  -2.12121212\n",
            "  -1.91919192  -1.71717172  -1.51515152  -1.31313131  -1.11111111\n",
            "  -0.90909091  -0.70707071  -0.50505051  -0.3030303   -0.1010101\n",
            "   0.1010101    0.3030303    0.50505051   0.70707071   0.90909091\n",
            "   1.11111111   1.31313131   1.51515152   1.71717172   1.91919192\n",
            "   2.12121212   2.32323232   2.52525253   2.72727273   2.92929293\n",
            "   3.13131313   3.33333333   3.53535354   3.73737374   3.93939394\n",
            "   4.14141414   4.34343434   4.54545455   4.74747475   4.94949495\n",
            "   5.15151515   5.35353535   5.55555556   5.75757576   5.95959596\n",
            "   6.16161616   6.36363636   6.56565657   6.76767677   6.96969697\n",
            "   7.17171717   7.37373737   7.57575758   7.77777778   7.97979798\n",
            "   8.18181818   8.38383838   8.58585859   8.78787879   8.98989899\n",
            "   9.19191919   9.39393939   9.5959596    9.7979798   10.        ]\n"
          ]
        }
      ]
    },
    {
      "cell_type": "markdown",
      "source": [
        "b) Calcula el valor de la función f(x)=e^(-x^2) para cada elemento de x."
      ],
      "metadata": {
        "id": "TmCvXuDXKu-s"
      }
    },
    {
      "cell_type": "code",
      "source": [
        "#segun lo desarrollado en clase uso np.exp de x**2 y asigno a una variable f_x\n",
        "f_x = np.exp(-x**2)\n",
        "print(\"\\nValores de f(x):\\n\", f_x)"
      ],
      "metadata": {
        "colab": {
          "base_uri": "https://localhost:8080/"
        },
        "id": "ISjaZn2dPzs2",
        "outputId": "9dcb23b4-e6b7-429b-8e63-3a8272c31518"
      },
      "execution_count": 9,
      "outputs": [
        {
          "output_type": "stream",
          "name": "stdout",
          "text": [
            "\n",
            "Valores de f(x):\n",
            " [3.72007598e-44 2.03026390e-42 1.02118442e-40 4.73376699e-39\n",
            " 2.02236984e-37 7.96279046e-36 2.88948872e-34 9.66335032e-33\n",
            " 2.97841666e-31 8.46046409e-30 2.21489900e-28 5.34397817e-27\n",
            " 1.18830091e-25 2.43522554e-24 4.59941880e-23 8.00603952e-22\n",
            " 1.28435035e-20 1.89889213e-19 2.58742690e-18 3.24927813e-17\n",
            " 3.76059612e-16 4.01122945e-15 3.94320471e-14 3.57249927e-13\n",
            " 2.98295005e-12 2.29546576e-11 1.62797100e-10 1.06407812e-09\n",
            " 6.40990174e-09 3.55860870e-08 1.82079103e-07 8.58600196e-07\n",
            " 3.73140910e-06 1.49453385e-05 5.51683065e-05 1.87682835e-04\n",
            " 5.88451217e-04 1.70038545e-03 4.52830117e-03 1.11140983e-02\n",
            " 2.51399360e-02 5.24089078e-02 1.00692485e-01 1.78295348e-01\n",
            " 2.90960459e-01 4.37601640e-01 6.06561603e-01 7.74857597e-01\n",
            " 9.12262625e-01 9.89848834e-01 9.89848834e-01 9.12262625e-01\n",
            " 7.74857597e-01 6.06561603e-01 4.37601640e-01 2.90960459e-01\n",
            " 1.78295348e-01 1.00692485e-01 5.24089078e-02 2.51399360e-02\n",
            " 1.11140983e-02 4.52830117e-03 1.70038545e-03 5.88451217e-04\n",
            " 1.87682835e-04 5.51683065e-05 1.49453385e-05 3.73140910e-06\n",
            " 8.58600196e-07 1.82079103e-07 3.55860870e-08 6.40990174e-09\n",
            " 1.06407812e-09 1.62797100e-10 2.29546576e-11 2.98295005e-12\n",
            " 3.57249927e-13 3.94320471e-14 4.01122945e-15 3.76059612e-16\n",
            " 3.24927813e-17 2.58742690e-18 1.89889213e-19 1.28435035e-20\n",
            " 8.00603952e-22 4.59941880e-23 2.43522554e-24 1.18830091e-25\n",
            " 5.34397817e-27 2.21489900e-28 8.46046409e-30 2.97841666e-31\n",
            " 9.66335032e-33 2.88948872e-34 7.96279046e-36 2.02236984e-37\n",
            " 4.73376699e-39 1.02118442e-40 2.03026390e-42 3.72007598e-44]\n"
          ]
        }
      ]
    },
    {
      "cell_type": "markdown",
      "source": [
        "c) Encuentra el valor máximo y mínimo de f(x) y las posiciones en el array donde ocurren."
      ],
      "metadata": {
        "id": "OdPMVomRLC4a"
      }
    },
    {
      "cell_type": "code",
      "source": [
        "# Calculo los valores de la funcion f_x\n",
        "valor_max = f_x.max()\n",
        "posicion_max = f_x.argmax()\n",
        "valor_min = f_x.min()\n",
        "posicion_min = f_x.argmin()\n",
        "\n",
        "print(\"\\n El Valor máximo de f(x) es:\", valor_max, \"en la posición\", posicion_max)\n",
        "print(\"El Valor mínimo de f(x) es:\", valor_min, \"en la posición\", posicion_min)"
      ],
      "metadata": {
        "colab": {
          "base_uri": "https://localhost:8080/"
        },
        "id": "t4DXbwCfP_Hl",
        "outputId": "ee83bb0f-e48c-46f9-82d9-357e92b0fbac"
      },
      "execution_count": 10,
      "outputs": [
        {
          "output_type": "stream",
          "name": "stdout",
          "text": [
            "\n",
            " El Valor máximo de f(x) es: 0.9898488339361309 en la posición 49\n",
            "El Valor mínimo de f(x) es: 3.720075976020836e-44 en la posición 0\n"
          ]
        }
      ]
    },
    {
      "cell_type": "markdown",
      "source": [
        "## Pregunta 4: Indexación y Slicing Avanzado\n",
        "Dado el siguiente array bidimensional:\n",
        "array = np.arange(1, 101).reshape(10, 10)"
      ],
      "metadata": {
        "id": "za7j9oOKLGDG"
      }
    },
    {
      "cell_type": "code",
      "source": [
        "# Creo el array bidimensional\n",
        "array = np.arange(1, 101).reshape(10, 10)\n",
        "print(\"Array original:\\n\", array)\n"
      ],
      "metadata": {
        "colab": {
          "base_uri": "https://localhost:8080/"
        },
        "id": "Bm1vWD6oQYcO",
        "outputId": "d11eb5f7-48a5-42d4-d0ca-ee23470d59d1"
      },
      "execution_count": 11,
      "outputs": [
        {
          "output_type": "stream",
          "name": "stdout",
          "text": [
            "Array original:\n",
            " [[  1   2   3   4   5   6   7   8   9  10]\n",
            " [ 11  12  13  14  15  16  17  18  19  20]\n",
            " [ 21  22  23  24  25  26  27  28  29  30]\n",
            " [ 31  32  33  34  35  36  37  38  39  40]\n",
            " [ 41  42  43  44  45  46  47  48  49  50]\n",
            " [ 51  52  53  54  55  56  57  58  59  60]\n",
            " [ 61  62  63  64  65  66  67  68  69  70]\n",
            " [ 71  72  73  74  75  76  77  78  79  80]\n",
            " [ 81  82  83  84  85  86  87  88  89  90]\n",
            " [ 91  92  93  94  95  96  97  98  99 100]]\n"
          ]
        }
      ]
    },
    {
      "cell_type": "markdown",
      "source": [
        "a) Extrae un subarray que contenga los elementos en posiciones pares de filas y columnas (es decir, filas y\n",
        "columnas con índices 0, 2, 4, 6, 8)."
      ],
      "metadata": {
        "id": "AIICMF-1LGAJ"
      }
    },
    {
      "cell_type": "code",
      "source": [
        "# Extraigo un subarray con elementos en posiciones usando slicing\n",
        "subarray = array[0::2, 0::2]\n",
        "print(\"\\nSubarray generado con filas y columnas pares:\\n\", subarray)"
      ],
      "metadata": {
        "colab": {
          "base_uri": "https://localhost:8080/"
        },
        "id": "spVybJlnQe1v",
        "outputId": "c8e9b3b5-fe97-48a5-ce68-9a3a7f22d356"
      },
      "execution_count": 12,
      "outputs": [
        {
          "output_type": "stream",
          "name": "stdout",
          "text": [
            "\n",
            "Subarray generado con filas y columnas pares:\n",
            " [[ 1  3  5  7  9]\n",
            " [21 23 25 27 29]\n",
            " [41 43 45 47 49]\n",
            " [61 63 65 67 69]\n",
            " [81 83 85 87 89]]\n"
          ]
        }
      ]
    },
    {
      "cell_type": "markdown",
      "source": [
        "b) Reemplaza todos los elementos que son múltiplos de 3 por -1."
      ],
      "metadata": {
        "id": "g-vekg0yLbcG"
      }
    },
    {
      "cell_type": "code",
      "source": [
        "# Creo una copia para no modificar el original directamente\n",
        "array_modificado = array.copy()\n",
        "# Modifico el array cambiando multiplos de 3 por -1\n",
        "array_modificado[array_modificado % 3 == 0] = -1\n",
        "print(\"\\nArray con múltiplos de 3 reemplazados por -1:\\n\", array_modificado)"
      ],
      "metadata": {
        "colab": {
          "base_uri": "https://localhost:8080/"
        },
        "id": "dmBUSmmOQxUh",
        "outputId": "ccc3b464-a583-44e9-ccdb-b13c59b00b3a"
      },
      "execution_count": 13,
      "outputs": [
        {
          "output_type": "stream",
          "name": "stdout",
          "text": [
            "\n",
            "Array con múltiplos de 3 reemplazados por -1:\n",
            " [[  1   2  -1   4   5  -1   7   8  -1  10]\n",
            " [ 11  -1  13  14  -1  16  17  -1  19  20]\n",
            " [ -1  22  23  -1  25  26  -1  28  29  -1]\n",
            " [ 31  32  -1  34  35  -1  37  38  -1  40]\n",
            " [ 41  -1  43  44  -1  46  47  -1  49  50]\n",
            " [ -1  52  53  -1  55  56  -1  58  59  -1]\n",
            " [ 61  62  -1  64  65  -1  67  68  -1  70]\n",
            " [ 71  -1  73  74  -1  76  77  -1  79  80]\n",
            " [ -1  82  83  -1  85  86  -1  88  89  -1]\n",
            " [ 91  92  -1  94  95  -1  97  98  -1 100]]\n"
          ]
        }
      ]
    },
    {
      "cell_type": "markdown",
      "source": [
        "c) Utiliza indexación avanzada para extraer todos los números primos del array original y crea un nuevo array\n",
        "con estos valores."
      ],
      "metadata": {
        "id": "09zveud3LbGm"
      }
    },
    {
      "cell_type": "code",
      "source": [
        "#Usamos la función de la pregunta 1\n",
        "def es_primo(n):\n",
        "    if n < 2:\n",
        "        return False\n",
        "    for i in range(2, int(np.sqrt(n)) + 1):\n",
        "        if n % i == 0:\n",
        "            return False\n",
        "    return True\n",
        "#Se genera un nuevo array con los resultados\n",
        "primos = array[np.vectorize(es_primo)(array)]\n",
        "print(\"\\nArray de números primos:\\n\", primos)"
      ],
      "metadata": {
        "colab": {
          "base_uri": "https://localhost:8080/"
        },
        "id": "5K2Tnr0GSKix",
        "outputId": "dd60d18b-a8ad-45a2-a564-5840a7ab745a"
      },
      "execution_count": 14,
      "outputs": [
        {
          "output_type": "stream",
          "name": "stdout",
          "text": [
            "\n",
            "Array de números primos:\n",
            " [ 2  3  5  7 11 13 17 19 23 29 31 37 41 43 47 53 59 61 67 71 73 79 83 89\n",
            " 97]\n"
          ]
        }
      ]
    },
    {
      "cell_type": "markdown",
      "source": [
        "##Pregunta 5:"
      ],
      "metadata": {
        "id": "TbF0Ne5jLa8b"
      }
    },
    {
      "cell_type": "markdown",
      "source": [
        "a) Crea tres arrays unidimensionales de longitud 5 con números aleatorios entre 0 y 1."
      ],
      "metadata": {
        "id": "wv3oVyRmRhLC"
      }
    },
    {
      "cell_type": "code",
      "source": [
        "#Creo  arrays usando random.rand\n",
        "array1 = np.random.rand(5)\n",
        "array2 = np.random.rand(5)\n",
        "array3 = np.random.rand(5)\n",
        "print(\"\\nArray 1:\\n\", array1)\n",
        "print(\"\\nArray 2:\\n\", array2)\n",
        "print(\"\\nArray 2:\\n\", array2)"
      ],
      "metadata": {
        "colab": {
          "base_uri": "https://localhost:8080/"
        },
        "id": "0m_gIp_CTN9z",
        "outputId": "fa7441f4-43f0-40bc-97b8-91614e26b625"
      },
      "execution_count": 15,
      "outputs": [
        {
          "output_type": "stream",
          "name": "stdout",
          "text": [
            "\n",
            "Array 1:\n",
            " [0.41958263 0.90155878 0.84967178 0.51548117 0.99991122]\n",
            "\n",
            "Array 2:\n",
            " [0.87576158 0.06199558 0.40949901 0.82552571 0.16702587]\n",
            "\n",
            "Array 2:\n",
            " [0.87576158 0.06199558 0.40949901 0.82552571 0.16702587]\n"
          ]
        }
      ]
    },
    {
      "cell_type": "markdown",
      "source": [
        "b) Combina estos arrays para formar una matriz de forma (5, 3)."
      ],
      "metadata": {
        "id": "1Izo1u9SRhFI"
      }
    },
    {
      "cell_type": "code",
      "source": [
        "# Combimo los arrays segun lo especificado\n",
        "matriz_5_3 = np.column_stack((array1, array2, array3))\n",
        "print(\"\\nArray Combinado 5x3 2:\\n\", matriz_5_3)"
      ],
      "metadata": {
        "colab": {
          "base_uri": "https://localhost:8080/"
        },
        "id": "m9jpMZnETezx",
        "outputId": "97765274-ac34-4a34-ea26-fe0d0dc54b68"
      },
      "execution_count": 16,
      "outputs": [
        {
          "output_type": "stream",
          "name": "stdout",
          "text": [
            "\n",
            "Array Combinado 5x3 2:\n",
            " [[0.41958263 0.87576158 0.38369578]\n",
            " [0.90155878 0.06199558 0.72644784]\n",
            " [0.84967178 0.40949901 0.45402091]\n",
            " [0.51548117 0.82552571 0.09932275]\n",
            " [0.99991122 0.16702587 0.61009288]]\n"
          ]
        }
      ]
    },
    {
      "cell_type": "markdown",
      "source": [
        "c) Agrega una columna de unos al principio de la matriz resultante, obteniendo una matriz de forma (5, 4)."
      ],
      "metadata": {
        "id": "OHeKxzc2Rg2S"
      }
    },
    {
      "cell_type": "code",
      "source": [
        "# Agrego una columna de unos  usando np.ones\n",
        "matriz_5_4 = np.column_stack((np.ones(5), matriz_5_3))\n",
        "\n",
        "print(\"\\nPregunta 5c: Matriz 5x4 con columna de unos al principio\")\n",
        "print(matriz_5_4)"
      ],
      "metadata": {
        "id": "fLsqmCzWT-FV",
        "outputId": "15c9d2f9-973b-4f64-9972-aaf095af8533",
        "colab": {
          "base_uri": "https://localhost:8080/"
        }
      },
      "execution_count": 17,
      "outputs": [
        {
          "output_type": "stream",
          "name": "stdout",
          "text": [
            "\n",
            "Pregunta 5c: Matriz 5x4 con columna de unos al principio\n",
            "[[1.         0.41958263 0.87576158 0.38369578]\n",
            " [1.         0.90155878 0.06199558 0.72644784]\n",
            " [1.         0.84967178 0.40949901 0.45402091]\n",
            " [1.         0.51548117 0.82552571 0.09932275]\n",
            " [1.         0.99991122 0.16702587 0.61009288]]\n"
          ]
        }
      ]
    },
    {
      "cell_type": "markdown",
      "source": [
        "d) Reordena las columnas de la matriz para que la columna de unos esté al final."
      ],
      "metadata": {
        "id": "xgwRYxhTRrXp"
      }
    },
    {
      "cell_type": "code",
      "source": [
        "#  Reordeno las columnas con np.roll\n",
        "matriz_reordenada = np.roll(matriz_5_4, -1, axis=1)\n",
        "\n",
        "print(\"\\nPregunta 5d: Matriz reordenada con columna de unos al final\")\n",
        "print(matriz_reordenada)"
      ],
      "metadata": {
        "id": "4zmbKq3eUN60",
        "outputId": "0ab94aee-faef-4107-ba79-54d2698a7736",
        "colab": {
          "base_uri": "https://localhost:8080/"
        }
      },
      "execution_count": 19,
      "outputs": [
        {
          "output_type": "stream",
          "name": "stdout",
          "text": [
            "\n",
            "Pregunta 5d: Matriz reordenada con columna de unos al final\n",
            "[[0.41958263 0.87576158 0.38369578 1.        ]\n",
            " [0.90155878 0.06199558 0.72644784 1.        ]\n",
            " [0.84967178 0.40949901 0.45402091 1.        ]\n",
            " [0.51548117 0.82552571 0.09932275 1.        ]\n",
            " [0.99991122 0.16702587 0.61009288 1.        ]]\n"
          ]
        }
      ]
    },
    {
      "cell_type": "markdown",
      "source": [
        "##Pregunta 6:"
      ],
      "metadata": {
        "id": "ssq-VQgQO_lo"
      }
    },
    {
      "cell_type": "markdown",
      "source": [
        "a) Crea una matriz simétrica positiva definida de tamaño 3x3."
      ],
      "metadata": {
        "id": "tzz12NTxRuMy"
      }
    },
    {
      "cell_type": "code",
      "source": [
        "# definimos una matriz aleatoria\n",
        "A = np.random.rand(3, 3)\n",
        "matriz_sim_pos_def = np.dot(A, A.T) # Aseguramos que  sea simetrica  positima\n",
        "\n",
        "print(\"\\nMatriz simétrica positiva definida\")\n",
        "print(matriz_sim_pos_def)"
      ],
      "metadata": {
        "id": "sLjFDhbfUdnG",
        "outputId": "4b610529-c5be-404f-a1d0-d8cacb285e46",
        "colab": {
          "base_uri": "https://localhost:8080/"
        }
      },
      "execution_count": 20,
      "outputs": [
        {
          "output_type": "stream",
          "name": "stdout",
          "text": [
            "\n",
            "Matriz simétrica positiva definida\n",
            "[[1.18744635 1.23447846 1.37547575]\n",
            " [1.23447846 1.42236661 1.48056111]\n",
            " [1.37547575 1.48056111 1.61920733]]\n"
          ]
        }
      ]
    },
    {
      "cell_type": "markdown",
      "source": [
        "b) Calcula sus valores y vectores propios (eigenvalores y eigenvectores)."
      ],
      "metadata": {
        "id": "Y4h6bZBQRuox"
      }
    },
    {
      "cell_type": "code",
      "source": [
        "#calculamos sus autovalore sy vectores\n",
        "eigenvalores, eigenvectores = np.linalg.eigh(matriz_sim_pos_def)\n",
        "\n",
        "# la positiva definida tiene todos sus eigenvalores positivos, comprobamos\n",
        "print(\"\\nPregunta 6b: Eigenvalores\")\n",
        "print(eigenvalores)\n",
        "print(\"\\nPregunta 6b: Eigenvectores\")\n",
        "print(eigenvectores)"
      ],
      "metadata": {
        "id": "cAXtJaolUgy4",
        "outputId": "778e3eea-7f08-4d5f-e6bd-160f02334b5a",
        "colab": {
          "base_uri": "https://localhost:8080/"
        }
      },
      "execution_count": 21,
      "outputs": [
        {
          "output_type": "stream",
          "name": "stdout",
          "text": [
            "\n",
            "Pregunta 6b: Eigenvalores\n",
            "[0.00428856 0.06949362 4.15523812]\n",
            "\n",
            "Pregunta 6b: Eigenvectores\n",
            "[[-0.60178619  0.59870782 -0.52858521]\n",
            " [-0.26334204 -0.77357864 -0.57639142]\n",
            " [ 0.75399228  0.20766569 -0.62319388]]\n"
          ]
        }
      ]
    },
    {
      "cell_type": "markdown",
      "source": [
        "c) Verifica que la multiplicación de la matriz original por un vector propio es igual al producto del eigenvalor\n",
        "correspondiente por el vector propio."
      ],
      "metadata": {
        "id": "-tbjRrC6SEtP"
      }
    },
    {
      "cell_type": "code",
      "source": [
        "# Creo una lista vacía.\n",
        "verificaciones = []\n",
        "# Hago un for para comprobar si es igual o no.\n",
        "for i in range(3):\n",
        "    prod_original = np.dot(matriz_sim_pos_def, eigenvectores[:, i])\n",
        "    prod_eigen = eigenvalores[i] * eigenvectores[:, i]\n",
        "    verificaciones.append(np.allclose(prod_original, prod_eigen))\n",
        "print(\"\\nPregunta 6c: Verificación de eigenvalores y eigenvectores\")\n",
        "print(verificaciones)"
      ],
      "metadata": {
        "id": "jMNxs1pxV2BX",
        "outputId": "60103761-ed1e-4941-ef9a-bb24b6945918",
        "colab": {
          "base_uri": "https://localhost:8080/"
        }
      },
      "execution_count": 22,
      "outputs": [
        {
          "output_type": "stream",
          "name": "stdout",
          "text": [
            "\n",
            "Pregunta 6c: Verificación de eigenvalores y eigenvectores\n",
            "[True, True, True]\n"
          ]
        }
      ]
    },
    {
      "cell_type": "markdown",
      "source": [
        "## Pregunta 7:"
      ],
      "metadata": {
        "id": "zscD_5k-O_he"
      }
    },
    {
      "cell_type": "markdown",
      "source": [
        "a) Construye un sistema de ecuaciones lineales con tres ecuaciones y tres incógnitas donde la matriz de\n",
        "coeficientes es singular (no invertible)."
      ],
      "metadata": {
        "id": "xjvQtYHNSXMa"
      }
    },
    {
      "cell_type": "code",
      "source": [
        "# Hago que la primera y segunda fila sean combinaciónes lineales de la otra f2 = 2 f1\n",
        "matriz_singular = np.array([[1.2, 2.3, 3], [2.4, 4.6, 6], [1, -1, 0]])\n",
        "vector_independiente = np.array([6, 12, 1])\n",
        "\n",
        "print(\"\\n Sistema de ecuaciones lineales\")\n",
        "print(\"Matriz de coeficients:\")\n",
        "print(matriz_singular)\n",
        "print(\"Vector independiente:\", vector_independiente)"
      ],
      "metadata": {
        "colab": {
          "base_uri": "https://localhost:8080/"
        },
        "id": "HYtfKZ-KSTCe",
        "outputId": "a6ce9926-d3e8-4df6-80de-b5872371b6df"
      },
      "execution_count": 23,
      "outputs": [
        {
          "output_type": "stream",
          "name": "stdout",
          "text": [
            "\n",
            " Sistema de ecuaciones lineales\n",
            "Matriz de coeficients:\n",
            "[[ 1.2  2.3  3. ]\n",
            " [ 2.4  4.6  6. ]\n",
            " [ 1.  -1.   0. ]]\n",
            "Vector independiente: [ 6 12  1]\n"
          ]
        }
      ]
    },
    {
      "cell_type": "markdown",
      "source": [
        "b) Intenta resolver el sistema utilizando np.linalg.solve() y explica el resultado obtenido."
      ],
      "metadata": {
        "id": "ZWA5I8biSWfq"
      }
    },
    {
      "cell_type": "code",
      "source": [
        "try:\n",
        "    solucion = np.linalg.solve(matriz_singular, vector_independiente)\n",
        "except np.linalg.LinAlgError as e:\n",
        "    solucion = str(e)"
      ],
      "metadata": {
        "id": "FDPXS5R0STzG"
      },
      "execution_count": 24,
      "outputs": []
    },
    {
      "cell_type": "code",
      "source": [
        "# comprubo que sea una matriz singular:\n",
        "print(\"\\nResultado  del SEL\")\n",
        "print(solucion)\n"
      ],
      "metadata": {
        "id": "D70xfomhWvIB",
        "outputId": "c40308c2-b083-43c9-bbbf-7f898e7d5ced",
        "colab": {
          "base_uri": "https://localhost:8080/"
        }
      },
      "execution_count": 25,
      "outputs": [
        {
          "output_type": "stream",
          "name": "stdout",
          "text": [
            "\n",
            "Resultado  del SEL\n",
            "Singular matrix\n"
          ]
        }
      ]
    },
    {
      "cell_type": "markdown",
      "source": [
        "##Pregunta 8:"
      ],
      "metadata": {
        "id": "-ljyK7YaO_dV"
      }
    },
    {
      "cell_type": "markdown",
      "source": [
        "a) Crea un array de forma (4, 4, 4) con números enteros aleatorios entre 0 y 100."
      ],
      "metadata": {
        "id": "JrE1whmyS-Xf"
      }
    },
    {
      "cell_type": "code",
      "source": [
        "#Creo  el array utilziando lo visto antes\n",
        "array_4x4x4 = np.random.randint(0, 101, (4, 4, 4))\n",
        "print(\"\\n Array de forma (4, 4, 4)\")\n",
        "print(array_4x4x4)"
      ],
      "metadata": {
        "colab": {
          "base_uri": "https://localhost:8080/"
        },
        "id": "dKYPIj2ISgaa",
        "outputId": "78e2fb5f-0720-47a2-bb09-997ef98bc35d"
      },
      "execution_count": 26,
      "outputs": [
        {
          "output_type": "stream",
          "name": "stdout",
          "text": [
            "\n",
            " Array de forma (4, 4, 4)\n",
            "[[[ 81  37 100   1]\n",
            "  [ 40  14  61  80]\n",
            "  [ 33   9  63  27]\n",
            "  [ 73  49  32  57]]\n",
            "\n",
            " [[ 37   3  71  83]\n",
            "  [100  91  72  85]\n",
            "  [ 72  33  21  66]\n",
            "  [ 58  11  13  21]]\n",
            "\n",
            " [[ 79  93  77  41]\n",
            "  [  0  43  61  95]\n",
            "  [ 79  14  19  39]\n",
            "  [ 18  27  46  84]]\n",
            "\n",
            " [[ 23   5  64  92]\n",
            "  [ 80  37  99  84]\n",
            "  [ 93  79  26  17]\n",
            "  [ 63  67  73  92]]]\n"
          ]
        }
      ]
    },
    {
      "cell_type": "markdown",
      "source": [
        "b) Calcula la suma a lo largo del eje 0, obteniendo un array de forma (4, 4)."
      ],
      "metadata": {
        "id": "NcuhuifZS--X"
      }
    },
    {
      "cell_type": "code",
      "source": [
        "suma_eje_0 = np.sum(array_4x4x4, axis=0)\n",
        "\n",
        "print(\"\\nSuma a lo largo del eje 0\")\n",
        "print(suma_eje_0)"
      ],
      "metadata": {
        "colab": {
          "base_uri": "https://localhost:8080/"
        },
        "id": "1nzxb9ZASgRK",
        "outputId": "61145072-7fbe-4d9b-82d8-344156825174"
      },
      "execution_count": 27,
      "outputs": [
        {
          "output_type": "stream",
          "name": "stdout",
          "text": [
            "\n",
            "Suma a lo largo del eje 0\n",
            "[[220 138 312 217]\n",
            " [220 185 293 344]\n",
            " [277 135 129 149]\n",
            " [212 154 164 254]]\n"
          ]
        }
      ]
    },
    {
      "cell_type": "markdown",
      "source": [
        "c) Calcula el promedio a lo largo del eje 1, obteniendo un array de forma (4, 4)."
      ],
      "metadata": {
        "id": "g-7r7-58TAvn"
      }
    },
    {
      "cell_type": "code",
      "source": [
        "# calculo el promedio\n",
        "promedio_eje_1 = np.mean(array_4x4x4, axis=1)\n",
        "print(\"\\n Promedio a lo largo del eje 1\")\n",
        "print(promedio_eje_1)"
      ],
      "metadata": {
        "id": "z7wSgXQuXhAr",
        "outputId": "700e55d6-a74e-43e3-82b5-78cc07df3922",
        "colab": {
          "base_uri": "https://localhost:8080/"
        }
      },
      "execution_count": 28,
      "outputs": [
        {
          "output_type": "stream",
          "name": "stdout",
          "text": [
            "\n",
            " Promedio a lo largo del eje 1\n",
            "[[56.75 27.25 64.   41.25]\n",
            " [66.75 34.5  44.25 63.75]\n",
            " [44.   44.25 50.75 64.75]\n",
            " [64.75 47.   65.5  71.25]]\n"
          ]
        }
      ]
    },
    {
      "cell_type": "markdown",
      "source": [
        "d) Reestructura el array original en una nueva forma de (8, 8) sin perder datos."
      ],
      "metadata": {
        "id": "8UCCnFd-TCgu"
      }
    },
    {
      "cell_type": "code",
      "source": [
        "# reestructuro el array\n",
        "array_reestructurado = array_4x4x4.reshape(8, 8)\n",
        "\n",
        "print(\"\\nArray reestructurado en forma (8, 8)\")\n",
        "print(array_reestructurado)\n"
      ],
      "metadata": {
        "id": "bSaf5brsXtWt",
        "outputId": "f2e8ae82-76ae-4b28-e7ab-e15b3c9ca478",
        "colab": {
          "base_uri": "https://localhost:8080/"
        }
      },
      "execution_count": 29,
      "outputs": [
        {
          "output_type": "stream",
          "name": "stdout",
          "text": [
            "\n",
            "Array reestructurado en forma (8, 8)\n",
            "[[ 81  37 100   1  40  14  61  80]\n",
            " [ 33   9  63  27  73  49  32  57]\n",
            " [ 37   3  71  83 100  91  72  85]\n",
            " [ 72  33  21  66  58  11  13  21]\n",
            " [ 79  93  77  41   0  43  61  95]\n",
            " [ 79  14  19  39  18  27  46  84]\n",
            " [ 23   5  64  92  80  37  99  84]\n",
            " [ 93  79  26  17  63  67  73  92]]\n"
          ]
        }
      ]
    },
    {
      "cell_type": "markdown",
      "source": [
        "##Pregunta 9:"
      ],
      "metadata": {
        "id": "nzaIEVbgO_Ve"
      }
    },
    {
      "cell_type": "markdown",
      "source": [
        "![image.png](data:image/png;base64,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)"
      ],
      "metadata": {
        "id": "RwM8gDELTIvP"
      }
    },
    {
      "cell_type": "markdown",
      "source": [
        "a) Usando NumPy, crea un array que contenga los primeros 10 elementos de esta secuencia sin utilizar bucles\n",
        "explícitos."
      ],
      "metadata": {
        "id": "bIggNChnTKzv"
      }
    },
    {
      "cell_type": "code",
      "source": [
        "import math\n",
        "# Utilizamos una comprensión d elistas para calcular el factorial\n",
        "factorials_array = np.array([math.factorial(i) for i in range(1, 11)])\n",
        "print(\"Array de factoriales (a):\", factorials_array)"
      ],
      "metadata": {
        "colab": {
          "base_uri": "https://localhost:8080/"
        },
        "id": "fDaY97u8YgC0",
        "outputId": "6129296e-c440-4426-e374-f8e9844ed5dd"
      },
      "execution_count": 39,
      "outputs": [
        {
          "output_type": "stream",
          "name": "stdout",
          "text": [
            "Array de factoriales (a): [      1       2       6      24     120     720    5040   40320  362880\n",
            " 3628800]\n"
          ]
        }
      ]
    },
    {
      "cell_type": "markdown",
      "source": [
        "b) Calcula la suma de todos los elementos del array creado."
      ],
      "metadata": {
        "id": "QddPlJrXTKrv"
      }
    },
    {
      "cell_type": "code",
      "source": [
        "sum_factorials = np.sum(factorials_array)\n",
        "print(\"Suma de los factoriales (b):\", sum_factorials)"
      ],
      "metadata": {
        "colab": {
          "base_uri": "https://localhost:8080/"
        },
        "id": "6w4nz2OqZLoP",
        "outputId": "0ab5cc0f-69c0-4ee9-86e5-1e4ce640af91"
      },
      "execution_count": 40,
      "outputs": [
        {
          "output_type": "stream",
          "name": "stdout",
          "text": [
            "Suma de los factoriales (b): 4037913\n"
          ]
        }
      ]
    },
    {
      "cell_type": "markdown",
      "source": [
        "c) Dado que los factoriales pueden ser números muy grandes, cambia el tipo de datos del array a object para\n",
        "manejar enteros arbitrariamente grandes y recalcula la suma."
      ],
      "metadata": {
        "id": "7zj7-SB4U-g3"
      }
    },
    {
      "cell_type": "code",
      "source": [
        "factorials_object_array = factorials_array.astype(object)"
      ],
      "metadata": {
        "id": "ISzRwCenZWjA"
      },
      "execution_count": 41,
      "outputs": []
    },
    {
      "cell_type": "code",
      "source": [
        "sum_factorials_object = np.sum(factorials_object_array)\n",
        "print(\"Suma de los factoriales (c):\", sum_factorials_object)"
      ],
      "metadata": {
        "colab": {
          "base_uri": "https://localhost:8080/"
        },
        "id": "hOgChDGcZYhY",
        "outputId": "c8a9e34e-b8a3-482f-e5fb-f97e362bdbc5"
      },
      "execution_count": 42,
      "outputs": [
        {
          "output_type": "stream",
          "name": "stdout",
          "text": [
            "Suma de los factoriales (c): 4037913\n"
          ]
        }
      ]
    },
    {
      "cell_type": "markdown",
      "source": [
        "## Pregunta 10:"
      ],
      "metadata": {
        "id": "hS-lJ0INVAr5"
      }
    },
    {
      "cell_type": "markdown",
      "source": [
        "a) Simula un conjunto de datos que represente las alturas (en cm) de 500 personas, siguiendo una distribución\n",
        "normal con media 170 y desviación estándar 10."
      ],
      "metadata": {
        "id": "gdAevioyVFRW"
      }
    },
    {
      "cell_type": "code",
      "source": [
        "np.random.seed(42)  # Para replicar\n",
        "alturas = np.random.normal(loc=170, scale=10, size=500)\n",
        "print(\"Alturas simuladas (primeros 10 valores):\", alturas[:10])"
      ],
      "metadata": {
        "colab": {
          "base_uri": "https://localhost:8080/"
        },
        "id": "qclSYAnHZuA2",
        "outputId": "1cd66082-dfc8-4382-c6db-31d5182fe4bf"
      },
      "execution_count": 44,
      "outputs": [
        {
          "output_type": "stream",
          "name": "stdout",
          "text": [
            "Alturas simuladas (primeros 10 valores): [174.96714153 168.61735699 176.47688538 185.23029856 167.65846625\n",
            " 167.65863043 185.79212816 177.67434729 165.30525614 175.42560044]\n"
          ]
        }
      ]
    },
    {
      "cell_type": "markdown",
      "source": [
        "b) Calcula el histograma de los datos utilizando 10 bins y muestra los valores de las frecuencias."
      ],
      "metadata": {
        "id": "KqfBpN-5VE4x"
      }
    },
    {
      "cell_type": "code",
      "source": [
        "frecuencias, bins = np.histogram(alturas, bins=10)\n",
        "print(\"Frecuencias del histograma (b):\", frecuencias)\n",
        "print(\"Bins del histograma (b):\", bins)"
      ],
      "metadata": {
        "colab": {
          "base_uri": "https://localhost:8080/"
        },
        "id": "d_SPf4-gZuQ7",
        "outputId": "8de935d1-a046-4ed6-8b73-07123bb6fef2"
      },
      "execution_count": 45,
      "outputs": [
        {
          "output_type": "stream",
          "name": "stdout",
          "text": [
            "Frecuencias del histograma (b): [  2  11  49 114 135 119  48  18   3   1]\n",
            "Bins del histograma (b): [137.5873266  144.68132543 151.77532426 158.86932309 165.96332192\n",
            " 173.05732075 180.15131958 187.24531841 194.33931725 201.43331608\n",
            " 208.52731491]\n"
          ]
        }
      ]
    },
    {
      "cell_type": "code",
      "source": [
        "plt.hist(alturas, bins=10, edgecolor='black', alpha=0.7)\n",
        "plt.title(\"Histograma de Alturas\")\n",
        "plt.xlabel(\"Altura (cm)\")\n",
        "plt.ylabel(\"Frecuencia\")\n",
        "plt.show()"
      ],
      "metadata": {
        "id": "WcSemydxaNr8",
        "outputId": "8986ca0f-d3ce-4044-e63e-ad1ca47e743a",
        "colab": {
          "base_uri": "https://localhost:8080/",
          "height": 472
        }
      },
      "execution_count": 46,
      "outputs": [
        {
          "output_type": "display_data",
          "data": {
            "text/plain": [
              "<Figure size 640x480 with 1 Axes>"
            ],
            "image/png": "[encoded data removed]"
          },
          "metadata": {}
        }
      ]
    },
    {
      "cell_type": "markdown",
      "source": [
        "c) Encuentra cuántas personas miden más de 180 cm y menos de 160 cm."
      ],
      "metadata": {
        "id": "t_fKtzQ-XGLF"
      }
    },
    {
      "cell_type": "code",
      "source": [
        "mayor_180 = np.sum(alturas > 180)\n",
        "menor_160 = np.sum(alturas < 160)\n",
        "print(\"Número de personas que miden más de 180 cm (c):\", mayor_180)\n",
        "print(\"Número de personas que miden menos de 160 cm (c):\", menor_160)"
      ],
      "metadata": {
        "colab": {
          "base_uri": "https://localhost:8080/"
        },
        "id": "c66yCvO7ZuuJ",
        "outputId": "63483156-11f4-4732-aee0-c4fdcdc9079d"
      },
      "execution_count": 47,
      "outputs": [
        {
          "output_type": "stream",
          "name": "stdout",
          "text": [
            "Número de personas que miden más de 180 cm (c): 71\n",
            "Número de personas que miden menos de 160 cm (c): 76\n"
          ]
        }
      ]
    },
    {
      "cell_type": "markdown",
      "source": [
        "d) Normaliza los datos de altura para que tengan media 0 y desviación estándar 1."
      ],
      "metadata": {
        "id": "OEVSFsqPXGnB"
      }
    },
    {
      "cell_type": "code",
      "source": [
        "media = np.mean(alturas)\n",
        "desviacion_estandar = np.std(alturas)\n",
        "alturas_normalizadas = (alturas - media) / desviacion_estandar\n",
        "print(\"Alturas normalizadas primeros 10 valores:\", alturas_normalizadas[:10])"
      ],
      "metadata": {
        "colab": {
          "base_uri": "https://localhost:8080/"
        },
        "id": "9Qox7lJRZvD-",
        "outputId": "cdd3e7ab-b1ca-4ebb-966d-ac3cc80459a5"
      },
      "execution_count": 48,
      "outputs": [
        {
          "output_type": "stream",
          "name": "stdout",
          "text": [
            "Alturas normalizadas primeros 10 valores: [ 0.49973518 -0.14802256  0.65374801  1.54670605 -0.24584145 -0.2458247\n",
            "  1.60401972  0.77590416 -0.48589843  0.54650375]\n"
          ]
        }
      ]
    },
    {
      "cell_type": "code",
      "source": [
        "print(\"Media  normalizadoa:\", np.mean(alturas_normalizadas))\n",
        "print(\"Desviacione standar normalizado:\", np.std(alturas_normalizadas))"
      ],
      "metadata": {
        "id": "vE7B1GLBaZtI",
        "outputId": "16ed57b8-7038-4fe4-c343-ef555216ae4b",
        "colab": {
          "base_uri": "https://localhost:8080/"
        }
      },
      "execution_count": 49,
      "outputs": [
        {
          "output_type": "stream",
          "name": "stdout",
          "text": [
            "Media  normalizadoa: -3.0411229090532287e-15\n",
            "Desviacione standar normalizado: 1.0\n"
          ]
        }
      ]
    }
  ]
}