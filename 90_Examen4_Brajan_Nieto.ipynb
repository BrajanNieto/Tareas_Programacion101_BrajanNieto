{
  "nbformat": 4,
  "nbformat_minor": 0,
  "metadata": {
    "colab": {
      "provenance": [],
      "include_colab_link": true
    },
    "kernelspec": {
      "name": "python3",
      "display_name": "Python 3"
    },
    "language_info": {
      "name": "python"
    }
  },
  "cells": [
    {
      "cell_type": "markdown",
      "metadata": {
        "id": "view-in-github",
        "colab_type": "text"
      },
      "source": [
        "<a href=\"https://colab.research.google.com/github/BrajanNieto/Tareas_Programacion101_BrajanNieto/blob/main/90_Examen4_Brajan_Nieto.ipynb\" target=\"_parent\"><img src=\"https://colab.research.google.com/assets/colab-badge.svg\" alt=\"Open In Colab\"/></a>"
      ]
    },
    {
      "cell_type": "markdown",
      "source": [
        "#**Práctica 04 - Programación 101**\n",
        "## Maestría de Ciencia de Datos e Inteligencia Artificial\n",
        "### Programación 101\n",
        "\n",
        "**Profesor del curso:**  \n",
        "Mg. John Caballero Terrazos  \n",
        "[jcaballero@utec.edu.pe](mailto:jcaballero@utec.edu.pe)\n",
        "\n",
        "**Maestrante:**  \n",
        "Bach. Brajan Esteban Nieto Espinoza  \n",
        "[brajan.nieto@utec.edu.pe](mailto:brajan.nieto@utec.edu.pe)\n",
        "\n",
        "<img src=\"https://pregrado.utec.edu.pe/sites/default/files/logo-utec-h_0_0.svg\" width=\"190\" alt=\"Logo UTEC\" loading=\"lazy\" typeof=\"foaf:Image\">"
      ],
      "metadata": {
        "id": "_9GhAtAbKeUj"
      }
    },
    {
      "cell_type": "code",
      "source": [
        "# Librerías que se usaron en el desarrollo de la práctica\n",
        "import numpy as np\n",
        "import pandas as pd\n",
        "import matplotlib.pyplot as plt\n",
        "import seaborn as sns\n",
        "from scipy.stats import kstest, norm #Esto lo use a para imputación de valores =0 en glucosa y BIM ya que fueron las unicas varibales que se trabajaron en las demás preguntas"
      ],
      "metadata": {
        "id": "NDXFuO45KRio"
      },
      "execution_count": 1,
      "outputs": []
    },
    {
      "cell_type": "markdown",
      "source": [
        "## Pregunta 1"
      ],
      "metadata": {
        "id": "gKOxp8NTJ4Pc"
      }
    },
    {
      "cell_type": "markdown",
      "source": [
        "1) Carga diabetes.csv en un DataFrame df_diabetes."
      ],
      "metadata": {
        "id": "nuyQXPDoQqCl"
      }
    },
    {
      "cell_type": "code",
      "source": [
        "#Carga de datos utilizando pandas.\n",
        "df_diabetes = pd.read_csv('diabetes.csv')"
      ],
      "metadata": {
        "id": "Sp76Np0HKLQq"
      },
      "execution_count": 2,
      "outputs": []
    },
    {
      "cell_type": "markdown",
      "source": [
        "2) Muestra las 5 primeras filas."
      ],
      "metadata": {
        "id": "eUVgAxxJKd4f"
      }
    },
    {
      "cell_type": "code",
      "source": [
        "#Utilizo head() para imprimir las primeras 5 lineas.\n",
        "print(\"Las primeras 5 filas del DataFrame: \\n\")\n",
        "print(df_diabetes.head())\n"
      ],
      "metadata": {
        "colab": {
          "base_uri": "https://localhost:8080/"
        },
        "id": "YsesGqw7KdvH",
        "outputId": "419fb2d7-0b94-4da9-b137-7c28b2e8fbe7"
      },
      "execution_count": 3,
      "outputs": [
        {
          "output_type": "stream",
          "name": "stdout",
          "text": [
            "Las primeras 5 filas del DataFrame: \n",
            "\n",
            "   Pregnancies  Glucose  BloodPressure  SkinThickness  Insulin   BMI  \\\n",
            "0            6      148             72             35        0  33.6   \n",
            "1            1       85             66             29        0  26.6   \n",
            "2            8      183             64              0        0  23.3   \n",
            "3            1       89             66             23       94  28.1   \n",
            "4            0      137             40             35      168  43.1   \n",
            "\n",
            "   DiabetesPedigreeFunction  Age  Outcome  \n",
            "0                     0.627   50        1  \n",
            "1                     0.351   31        0  \n",
            "2                     0.672   32        1  \n",
            "3                     0.167   21        0  \n",
            "4                     2.288   33        1  \n"
          ]
        }
      ]
    },
    {
      "cell_type": "code",
      "source": [
        "# Imprimo para conocer propiedades básicas\n",
        "print(\"\\nDescripción del DF:\\n\")\n",
        "print(df_diabetes.describe())"
      ],
      "metadata": {
        "colab": {
          "base_uri": "https://localhost:8080/"
        },
        "id": "1kb6FxKkKGDX",
        "outputId": "327c3219-4a85-4083-aae3-861b61c4a72e"
      },
      "execution_count": 4,
      "outputs": [
        {
          "output_type": "stream",
          "name": "stdout",
          "text": [
            "\n",
            "Descripción del DF:\n",
            "\n",
            "       Pregnancies     Glucose  BloodPressure  SkinThickness     Insulin  \\\n",
            "count   768.000000  768.000000     768.000000     768.000000  768.000000   \n",
            "mean      3.845052  120.894531      69.105469      20.536458   79.799479   \n",
            "std       3.369578   31.972618      19.355807      15.952218  115.244002   \n",
            "min       0.000000    0.000000       0.000000       0.000000    0.000000   \n",
            "25%       1.000000   99.000000      62.000000       0.000000    0.000000   \n",
            "50%       3.000000  117.000000      72.000000      23.000000   30.500000   \n",
            "75%       6.000000  140.250000      80.000000      32.000000  127.250000   \n",
            "max      17.000000  199.000000     122.000000      99.000000  846.000000   \n",
            "\n",
            "              BMI  DiabetesPedigreeFunction         Age     Outcome  \n",
            "count  768.000000                768.000000  768.000000  768.000000  \n",
            "mean    31.992578                  0.471876   33.240885    0.348958  \n",
            "std      7.884160                  0.331329   11.760232    0.476951  \n",
            "min      0.000000                  0.078000   21.000000    0.000000  \n",
            "25%     27.300000                  0.243750   24.000000    0.000000  \n",
            "50%     32.000000                  0.372500   29.000000    0.000000  \n",
            "75%     36.600000                  0.626250   41.000000    1.000000  \n",
            "max     67.100000                  2.420000   81.000000    1.000000  \n"
          ]
        }
      ]
    },
    {
      "cell_type": "markdown",
      "source": [
        "3) Imprime el número total de filas, columnas y el tipo de cada columna."
      ],
      "metadata": {
        "id": "tHXbjqu9Kdhv"
      }
    },
    {
      "cell_type": "code",
      "source": [
        "#Utilizo shape para asignar los valores a las variables filas y columnas\n",
        "filas, columnas = df_diabetes.shape\n",
        "print(f\"\\nNúmero total de filas: {filas}\")\n",
        "print(f\"Número total de columnas: {columnas}\\n\")\n",
        "\n",
        "#Imprimo los tipos de datos por cada columna\n",
        "print(\"Tipos de datos de cada columna:\")\n",
        "print(df_diabetes.dtypes)"
      ],
      "metadata": {
        "colab": {
          "base_uri": "https://localhost:8080/"
        },
        "id": "1ucBw5rrKkkT",
        "outputId": "e5ebb77d-294a-4239-a368-1e83f833bbae"
      },
      "execution_count": 5,
      "outputs": [
        {
          "output_type": "stream",
          "name": "stdout",
          "text": [
            "\n",
            "Número total de filas: 768\n",
            "Número total de columnas: 9\n",
            "\n",
            "Tipos de datos de cada columna:\n",
            "Pregnancies                   int64\n",
            "Glucose                       int64\n",
            "BloodPressure                 int64\n",
            "SkinThickness                 int64\n",
            "Insulin                       int64\n",
            "BMI                         float64\n",
            "DiabetesPedigreeFunction    float64\n",
            "Age                           int64\n",
            "Outcome                       int64\n",
            "dtype: object\n"
          ]
        }
      ]
    },
    {
      "cell_type": "markdown",
      "source": [
        "4) Convierte la columna Outcome a tipo categórico y verifica el cambio imprimiendo la información del DataFrame (df_diabetes.info())."
      ],
      "metadata": {
        "id": "nG_-MQg8c7Xy"
      }
    },
    {
      "cell_type": "code",
      "source": [
        "#Se observó anteriormente que Outcome es de tipo \"int64\", hacemos el cambio:\n",
        "df_diabetes['Outcome'] = df_diabetes['Outcome'].astype('category')\n",
        "#Imprimimos para corroborar\n",
        "print(\"\\nInformación del DataFrame después de convertir 'Outcome' a categórico:\")\n",
        "print(df_diabetes.info())\n",
        "#Tambien analizamos los valores nulos por columna por si tenemos que imputar algo."
      ],
      "metadata": {
        "id": "PQf4MmOcdouO",
        "outputId": "80b95494-4c68-4925-a7ce-8ee47eb99365",
        "colab": {
          "base_uri": "https://localhost:8080/"
        }
      },
      "execution_count": 6,
      "outputs": [
        {
          "output_type": "stream",
          "name": "stdout",
          "text": [
            "\n",
            "Información del DataFrame después de convertir 'Outcome' a categórico:\n",
            "<class 'pandas.core.frame.DataFrame'>\n",
            "RangeIndex: 768 entries, 0 to 767\n",
            "Data columns (total 9 columns):\n",
            " #   Column                    Non-Null Count  Dtype   \n",
            "---  ------                    --------------  -----   \n",
            " 0   Pregnancies               768 non-null    int64   \n",
            " 1   Glucose                   768 non-null    int64   \n",
            " 2   BloodPressure             768 non-null    int64   \n",
            " 3   SkinThickness             768 non-null    int64   \n",
            " 4   Insulin                   768 non-null    int64   \n",
            " 5   BMI                       768 non-null    float64 \n",
            " 6   DiabetesPedigreeFunction  768 non-null    float64 \n",
            " 7   Age                       768 non-null    int64   \n",
            " 8   Outcome                   768 non-null    category\n",
            "dtypes: category(1), float64(2), int64(6)\n",
            "memory usage: 49.0 KB\n",
            "None\n"
          ]
        }
      ]
    },
    {
      "cell_type": "markdown",
      "source": [
        "**Realizaremos la imputación a outliers para las variables BMI**:\n",
        "Dado que en la pregunta **2**  se solicita categorizar el BMI yse observa que hay valores imposibles para la naturaleza de esta variable, debemos corregir estos valores. Según la bibliografía revisada, es improbable encontrar valores de BMI menores a 15, ya que estos son incompatibles con la vida sin soporte médico externo. Por otro lado, aunque no existe un límite superior definido para el BMI, se han registrado valores de hasta 100. Sin embargo, en la base de datos, el valor máximo registrado es de 67.1.\n"
      ],
      "metadata": {
        "id": "Mw-8CE3bplfR"
      }
    },
    {
      "cell_type": "code",
      "source": [
        "# Inspección visual de la columna BMI. Se observa que sigue una distribución simetrica\n",
        "# Como se mencionó presenta una cota inferior por la naturaleza del BMI pero existen valores = 0\n",
        "plt.hist(df_diabetes['BMI'], bins=30, edgecolor='k', alpha=0.7)\n",
        "plt.title('Distribución del BMI')\n",
        "plt.xlabel('BMI')\n",
        "plt.ylabel('Frecuencia')\n",
        "plt.axvline(df_diabetes['BMI'].mean(), color='r', linestyle='dashed', linewidth=1, label='Media')\n",
        "plt.legend()\n",
        "plt.show()"
      ],
      "metadata": {
        "id": "BBfdMEYT0Df-",
        "outputId": "8136c1cb-0a10-4e6c-9a97-452240f8abeb",
        "colab": {
          "base_uri": "https://localhost:8080/",
          "height": 472
        }
      },
      "execution_count": 7,
      "outputs": [
        {
          "output_type": "display_data",
          "data": {
            "text/plain": [
              "<Figure size 640x480 with 1 Axes>"
            ],
            "image/png": "[encoded data removed]"
          },
          "metadata": {}
        }
      ]
    },
    {
      "cell_type": "code",
      "source": [
        "# Realizar la prueba KS contra una distribución normal\n",
        "stat, p_value = kstest(df_diabetes['BMI'], 'norm', args=(df_diabetes['BMI'].mean(), df_diabetes['BMI'].std()))\n",
        "\n",
        "# Mostrar resultados\n",
        "#print(f\"KS Statistic: {stat}\")\n",
        "print(f\"P-Value: {p_value}\")\n",
        "# Decisión basada en el p-valor\n",
        "if p_value > 0.05:\n",
        "    print(\"No se rechaza H0: Los datos siguen una distribución normal, imputamos por media.\")\n",
        "else:\n",
        "    print(\"Se rechaza H0: Los datos no siguen una distribución normal, imputamos por mediana.\")"
      ],
      "metadata": {
        "id": "GWpjeiVLtCwR",
        "outputId": "7c6cc53f-aa1e-4ec1-aed9-8a294206617b",
        "colab": {
          "base_uri": "https://localhost:8080/"
        }
      },
      "execution_count": 8,
      "outputs": [
        {
          "output_type": "stream",
          "name": "stdout",
          "text": [
            "P-Value: 0.051691155132081446\n",
            "No se rechaza H0: Los datos siguen una distribución normal, imputamos por media.\n"
          ]
        }
      ]
    },
    {
      "cell_type": "code",
      "source": [
        "# Reemplazamos los valores menores a 15 por la media calculada\n",
        "df_diabetes.loc[df_diabetes['BMI'] < 15, 'BMI'] = df_diabetes.loc[df_diabetes['BMI'] >= 15, 'BMI'].mean()\n",
        "\n",
        "# Mostramos el resultado para comprobar la imputación realizada\n",
        "print(\"Valores menores a 15 imputados con la media:\")\n",
        "print(df_diabetes['BMI'].describe())\n"
      ],
      "metadata": {
        "id": "DI2Hzjq3vN6v",
        "outputId": "c9e84325-0d39-4d3a-a7c1-85e31aabb9d6",
        "colab": {
          "base_uri": "https://localhost:8080/"
        }
      },
      "execution_count": 9,
      "outputs": [
        {
          "output_type": "stream",
          "name": "stdout",
          "text": [
            "Valores menores a 15 imputados con la media:\n",
            "count    768.000000\n",
            "mean      32.457464\n",
            "std        6.875151\n",
            "min       18.200000\n",
            "25%       27.500000\n",
            "50%       32.400000\n",
            "75%       36.600000\n",
            "max       67.100000\n",
            "Name: BMI, dtype: float64\n"
          ]
        }
      ]
    },
    {
      "cell_type": "markdown",
      "source": [
        "**Realizaremos la imputación a outliers para las variables Glucose**:\n",
        "Dado que en la pregunta **4**  se solicita categorizar y hallar promedio de BIM y Glucose yse observa que hay valores imposibles para la naturaleza de esta variable, debemos corregir estos valores. Según la bibliografía revisada, es improbable encontrar valores de Glucose menores a 50, ya que estos son incompatibles con la vida sin soporte médico externo."
      ],
      "metadata": {
        "id": "zrXRxXoA1qWv"
      }
    },
    {
      "cell_type": "code",
      "source": [
        "# Inspección visual de la columna Glucose. Se observa que sigue una distribución simetrica\n",
        "plt.hist(df_diabetes['Glucose'], bins=30, edgecolor='k', alpha=0.7)\n",
        "plt.title('Distribución de la Glucosa')\n",
        "plt.xlabel('Glucosa')\n",
        "plt.ylabel('Frecuencia')\n",
        "plt.axvline(df_diabetes['Glucose'].mean(), color='r', linestyle='dashed', linewidth=1, label='Media')\n",
        "plt.legend()\n",
        "plt.show()"
      ],
      "metadata": {
        "id": "--xmvYUN1p6h",
        "outputId": "f65985c3-07f7-4546-b64d-1999402a03d9",
        "colab": {
          "base_uri": "https://localhost:8080/",
          "height": 472
        }
      },
      "execution_count": 10,
      "outputs": [
        {
          "output_type": "display_data",
          "data": {
            "text/plain": [
              "<Figure size 640x480 with 1 Axes>"
            ],
            "image/png": "[encoded data removed]"
          },
          "metadata": {}
        }
      ]
    },
    {
      "cell_type": "code",
      "source": [
        "# Realizar la prueba KS contra una distribución normal\n",
        "stat_g, p_value_g = kstest(df_diabetes['Glucose'], 'norm', args=(df_diabetes['Glucose'].mean(), df_diabetes['Glucose'].std()))\n",
        "\n",
        "# Mostrar resultados\n",
        "#print(f\"KS Statistic: {stat_g}\")\n",
        "print(f\"P-Value: {p_value_g}\")\n",
        "\n",
        "# Decisión basada en el p-valor\n",
        "if p_value_g > 0.05:\n",
        "    print(\"No se rechaza H0: Los datos siguen una distribución normal, imputamos por media.\")\n",
        "else:\n",
        "    print(\"Se rechaza H0: Los datos no siguen una distribución normal, imputamos por mediana.\")\n"
      ],
      "metadata": {
        "id": "g-lR_E9r269U",
        "outputId": "d9c702a6-ac36-448b-8fa0-fc5a8da493ee",
        "colab": {
          "base_uri": "https://localhost:8080/"
        }
      },
      "execution_count": 11,
      "outputs": [
        {
          "output_type": "stream",
          "name": "stdout",
          "text": [
            "P-Value: 0.003536428524350968\n",
            "Se rechaza H0: Los datos no siguen una distribución normal, imputamos por mediana.\n"
          ]
        }
      ]
    },
    {
      "cell_type": "code",
      "source": [
        "# Reemplazamos los valores  por la mediana\n",
        "df_diabetes.loc[df_diabetes['Glucose'] < 25, 'Glucose'] = df_diabetes.loc[df_diabetes['Glucose'] >= 25, 'Glucose'].median()\n",
        "\n",
        "# Mostramos el resultado para comprobar la imputación realizada\n",
        "print(\"Valores menores a 35 imputados con la mediana:\")\n",
        "print(df_diabetes['Glucose'].describe())\n"
      ],
      "metadata": {
        "id": "vpNWwfhK4Mgn",
        "outputId": "90448a6a-0855-4f43-91c0-71432c7ef21e",
        "colab": {
          "base_uri": "https://localhost:8080/"
        }
      },
      "execution_count": 12,
      "outputs": [
        {
          "output_type": "stream",
          "name": "stdout",
          "text": [
            "Valores menores a 35 imputados con la mediana:\n",
            "count    768.000000\n",
            "mean     121.656250\n",
            "std       30.438286\n",
            "min       44.000000\n",
            "25%       99.750000\n",
            "50%      117.000000\n",
            "75%      140.250000\n",
            "max      199.000000\n",
            "Name: Glucose, dtype: float64\n"
          ]
        }
      ]
    },
    {
      "cell_type": "markdown",
      "source": [
        "## Pregunta 2\n"
      ],
      "metadata": {
        "id": "_3zLAqnrKqGT"
      }
    },
    {
      "cell_type": "markdown",
      "source": [
        "1) Crea un DataFrame df_filtrado con todas las filas de df_diabetes donde Glucose > 120."
      ],
      "metadata": {
        "id": "o-k4ryNTKuUb"
      }
    },
    {
      "cell_type": "code",
      "source": [
        "# Se crea el DF filtrado\n",
        "df_filtrado = df_diabetes[df_diabetes['Glucose'] > 120].copy()\n",
        "\n",
        "# Compruebo imprimiendo las 5 primeras lineas\n",
        "print(\"Las primeras 5 filas del DataFrame Filtrado: \\n\")\n",
        "print(df_filtrado.head())\n",
        "\n",
        "# Imprimo para conocer propiedades\n",
        "print(\"\\nDescripción del DF filtrado:\\n\")\n",
        "print(df_filtrado.describe())"
      ],
      "metadata": {
        "colab": {
          "base_uri": "https://localhost:8080/"
        },
        "id": "kW984qwzKwLD",
        "outputId": "6c2ba96b-b1ee-4046-9c95-b413b0c9bc99"
      },
      "execution_count": 13,
      "outputs": [
        {
          "output_type": "stream",
          "name": "stdout",
          "text": [
            "Las primeras 5 filas del DataFrame Filtrado: \n",
            "\n",
            "   Pregnancies  Glucose  BloodPressure  SkinThickness  Insulin        BMI  \\\n",
            "0            6      148             72             35        0  33.600000   \n",
            "2            8      183             64              0        0  23.300000   \n",
            "4            0      137             40             35      168  43.100000   \n",
            "8            2      197             70             45      543  30.500000   \n",
            "9            8      125             96              0        0  32.457464   \n",
            "\n",
            "   DiabetesPedigreeFunction  Age Outcome  \n",
            "0                     0.627   50       1  \n",
            "2                     0.672   32       1  \n",
            "4                     2.288   33       1  \n",
            "8                     0.158   53       1  \n",
            "9                     0.232   54       1  \n",
            "\n",
            "Descripción del DF filtrado:\n",
            "\n",
            "       Pregnancies     Glucose  BloodPressure  SkinThickness     Insulin  \\\n",
            "count   349.000000  349.000000     349.000000     349.000000  349.000000   \n",
            "mean      4.309456  148.601719      72.601719      21.366762  117.318052   \n",
            "std       3.567324   21.789328      18.682744      17.160086  147.914309   \n",
            "min       0.000000  121.000000       0.000000       0.000000    0.000000   \n",
            "25%       1.000000  129.000000      68.000000       0.000000    0.000000   \n",
            "50%       4.000000  144.000000      74.000000      26.000000   88.000000   \n",
            "75%       7.000000  164.000000      84.000000      35.000000  182.000000   \n",
            "max      17.000000  199.000000     114.000000      99.000000  846.000000   \n",
            "\n",
            "              BMI  DiabetesPedigreeFunction         Age  \n",
            "count  349.000000                349.000000  349.000000  \n",
            "mean    34.057922                  0.506676   36.444126  \n",
            "std      6.863923                  0.368122   12.633444  \n",
            "min     19.600000                  0.088000   21.000000  \n",
            "25%     29.600000                  0.255000   26.000000  \n",
            "50%     33.300000                  0.395000   34.000000  \n",
            "75%     37.900000                  0.655000   44.000000  \n",
            "max     67.100000                  2.420000   81.000000  \n"
          ]
        }
      ]
    },
    {
      "cell_type": "markdown",
      "source": [
        "2) Agrega a df_filtrado una columna BMI_Category que clasifique el BMI así:\n",
        "*   \"Bajo\" si BMI < 18.5\n",
        "*   \"Normal\" si 18.5 ≤ BMI < 25\n",
        "*   \"Sobrepeso\" si 25 ≤ BMI < 30\n",
        "*   \"Obeso\" si BMI ≥ 30"
      ],
      "metadata": {
        "id": "RZML6tKxKwDc"
      }
    },
    {
      "cell_type": "code",
      "source": [
        "# Creamos una lista de condiciones para generar la categorización del BMI.\n",
        "# Si no hubiésemos realizado la imputación previamente, todos los datos menores a 15\n",
        "# habrían sido categorizados como \"bajo\", lo que podría resultar erróneo.\n",
        "# Dado que la base de datos contiene menos de 800 filas, se optó por corregir estos errores\n",
        "# en lugar de eliminarlos.\n",
        "\n",
        "conditions = [\n",
        "    (df_filtrado['BMI'] < 18.5),\n",
        "    (df_filtrado['BMI'] >= 18.5) & (df_filtrado['BMI'] < 25),\n",
        "    (df_filtrado['BMI'] >= 25) & (df_filtrado['BMI'] < 30),\n",
        "    (df_filtrado['BMI'] >= 30)\n",
        "]\n",
        "\n",
        "choices = ['Bajo', 'Normal', 'Sobrepeso', 'Obeso']\n",
        "df_filtrado['BMI_Category'] = np.select(conditions, choices, default='Desconocido')"
      ],
      "metadata": {
        "id": "XYrCPJ2QKv6U"
      },
      "execution_count": 14,
      "outputs": []
    },
    {
      "cell_type": "markdown",
      "source": [
        "3) Muestra las primeras 5 filas de df_filtrado con la nueva columna incluida."
      ],
      "metadata": {
        "id": "y2s_IzArKvyb"
      }
    },
    {
      "cell_type": "code",
      "source": [
        "#Imprimo las 5 primeras filas usando head\n",
        "print(\"Las primeras 5 filas de df_filtrado con la columna BMI_Category:\")\n",
        "print(df_filtrado.head())"
      ],
      "metadata": {
        "colab": {
          "base_uri": "https://localhost:8080/"
        },
        "id": "dxJ_yJU6Kvob",
        "outputId": "8e35ae29-d296-4dfd-e4a6-caf10744c1e1"
      },
      "execution_count": 15,
      "outputs": [
        {
          "output_type": "stream",
          "name": "stdout",
          "text": [
            "Las primeras 5 filas de df_filtrado con la columna BMI_Category:\n",
            "   Pregnancies  Glucose  BloodPressure  SkinThickness  Insulin        BMI  \\\n",
            "0            6      148             72             35        0  33.600000   \n",
            "2            8      183             64              0        0  23.300000   \n",
            "4            0      137             40             35      168  43.100000   \n",
            "8            2      197             70             45      543  30.500000   \n",
            "9            8      125             96              0        0  32.457464   \n",
            "\n",
            "   DiabetesPedigreeFunction  Age Outcome BMI_Category  \n",
            "0                     0.627   50       1        Obeso  \n",
            "2                     0.672   32       1       Normal  \n",
            "4                     2.288   33       1        Obeso  \n",
            "8                     0.158   53       1        Obeso  \n",
            "9                     0.232   54       1        Obeso  \n"
          ]
        }
      ]
    },
    {
      "cell_type": "markdown",
      "source": [
        "## Pregunta 3"
      ],
      "metadata": {
        "id": "Y1xUdqXEK4-8"
      }
    },
    {
      "cell_type": "markdown",
      "source": [
        "1) Carga age_groups.csv en un DataFrame df_age_groups."
      ],
      "metadata": {
        "id": "57VwI2RaK42_"
      }
    },
    {
      "cell_type": "code",
      "source": [
        "#Carga de datos utilizando pandas.\n",
        "df_age_groups = pd.read_csv('age_groups.csv')"
      ],
      "metadata": {
        "id": "PHcI03U_PmzM"
      },
      "execution_count": 16,
      "outputs": []
    },
    {
      "cell_type": "markdown",
      "source": [
        "2) Haz un merge de df_diabetes con df_age_groups por la columna Age. El resultado se llamará df_combinado. Debe ser un left merge para mantener todas las filas de df_diabetes."
      ],
      "metadata": {
        "id": "TmCvXuDXKu-s"
      }
    },
    {
      "cell_type": "code",
      "source": [
        "# Verificar si hay valores nulos en la columna 'Age' en ambos DataFrames\n",
        "print(\"\\nValores nulos en la columna 'Age':\")\n",
        "print(f\"df_diabetes: {df_diabetes['Age'].isnull().sum()} nulos\")\n",
        "print(f\"df_age_groups: {df_age_groups['Age'].isnull().sum()} nulos\")\n",
        "\n",
        "# Verificar tamaños de los DataFrames\n",
        "print(\"\\nTamaños de los DataFrames antes del merge:\")\n",
        "print(f\"df_diabetes: {df_diabetes.shape}\")\n",
        "print(f\"df_age_groups: {df_age_groups.shape}\")"
      ],
      "metadata": {
        "id": "lXL6hhTZl0MO",
        "outputId": "bd6f7aa5-2184-48f7-9a9a-2b01ffe8428a",
        "colab": {
          "base_uri": "https://localhost:8080/"
        }
      },
      "execution_count": 17,
      "outputs": [
        {
          "output_type": "stream",
          "name": "stdout",
          "text": [
            "\n",
            "Valores nulos en la columna 'Age':\n",
            "df_diabetes: 0 nulos\n",
            "df_age_groups: 0 nulos\n",
            "\n",
            "Tamaños de los DataFrames antes del merge:\n",
            "df_diabetes: (768, 9)\n",
            "df_age_groups: (52, 2)\n"
          ]
        }
      ]
    },
    {
      "cell_type": "code",
      "source": [
        "# Realizar el merge (left join)\n",
        "df_combinado = pd.merge(df_diabetes, df_age_groups, on='Age', how='left')\n",
        "# Verificar el tamaño del DataFrame combinado\n",
        "print(\"Tamaño de df_combinado después del merge:\")\n",
        "print(df_combinado.shape)"
      ],
      "metadata": {
        "id": "he9xMXXsl0Gv",
        "outputId": "0ab4fc3e-f99a-4a37-b83d-0a32c7249829",
        "colab": {
          "base_uri": "https://localhost:8080/"
        }
      },
      "execution_count": 18,
      "outputs": [
        {
          "output_type": "stream",
          "name": "stdout",
          "text": [
            "Tamaño de df_combinado después del merge:\n",
            "(768, 10)\n"
          ]
        }
      ]
    },
    {
      "cell_type": "markdown",
      "source": [
        "3) Muestra las 5 primeras filas de df_combinado para verificar que la columna AgeGroup se haya agregado correctamente."
      ],
      "metadata": {
        "id": "OdPMVomRLC4a"
      }
    },
    {
      "cell_type": "code",
      "source": [
        "#Imprimo las 5 primeras filas usando head\n",
        "print(\"Las primeras 5 filas de df_combinado\")\n",
        "print(df_combinado.head())\n",
        "#Se comprueba que se realizó el merge correctamente"
      ],
      "metadata": {
        "id": "V3ufIMmOl1Wm",
        "outputId": "80a8944d-d32c-4687-8635-899f2d1b3bcb",
        "colab": {
          "base_uri": "https://localhost:8080/"
        }
      },
      "execution_count": 19,
      "outputs": [
        {
          "output_type": "stream",
          "name": "stdout",
          "text": [
            "Las primeras 5 filas de df_combinado\n",
            "   Pregnancies  Glucose  BloodPressure  SkinThickness  Insulin   BMI  \\\n",
            "0            6      148             72             35        0  33.6   \n",
            "1            1       85             66             29        0  26.6   \n",
            "2            8      183             64              0        0  23.3   \n",
            "3            1       89             66             23       94  28.1   \n",
            "4            0      137             40             35      168  43.1   \n",
            "\n",
            "   DiabetesPedigreeFunction  Age Outcome AgeGroup  \n",
            "0                     0.627   50       1   Adulto  \n",
            "1                     0.351   31       0   Adulto  \n",
            "2                     0.672   32       1   Adulto  \n",
            "3                     0.167   21       0    Joven  \n",
            "4                     2.288   33       1   Adulto  \n"
          ]
        }
      ]
    },
    {
      "cell_type": "markdown",
      "source": [
        "## Pregunta 4"
      ],
      "metadata": {
        "id": "za7j9oOKLGDG"
      }
    },
    {
      "cell_type": "markdown",
      "source": [
        "1) Agrupa df_combinado por AgeGroup."
      ],
      "metadata": {
        "id": "B4jVTli4rF7I"
      }
    },
    {
      "cell_type": "code",
      "source": [
        "# Agrupar por 'AgeGroup' y calcular el promedio de 'Glucose' y 'BMI'\n",
        "df_Agrupado = df_combinado.groupby('AgeGroup').agg(\n",
        "    avg_glucose=('Glucose', 'mean'),\n",
        "    avg_bmi=('BMI', 'mean')\n",
        ").reset_index()\n",
        "\n",
        "print(\"Las primeras 5 filas de df_Agrupado\")\n",
        "print(df_Agrupado.head())"
      ],
      "metadata": {
        "id": "jRqSMJAfuFUd",
        "outputId": "e80bb25b-b712-4334-aa57-49d5a332085f",
        "colab": {
          "base_uri": "https://localhost:8080/"
        }
      },
      "execution_count": 20,
      "outputs": [
        {
          "output_type": "stream",
          "name": "stdout",
          "text": [
            "Las primeras 5 filas de df_Agrupado\n",
            "       AgeGroup  avg_glucose    avg_bmi\n",
            "0        Adulto   126.503704  33.562593\n",
            "1  Adulto_Mayor   139.679012  31.012530\n",
            "2         Joven   115.016787  32.022583\n"
          ]
        }
      ]
    },
    {
      "cell_type": "markdown",
      "source": [
        "2) Calcula el promedio de Glucose y el promedio de BMI para cada grupo de edad."
      ],
      "metadata": {
        "id": "H4qRzggmrF1V"
      }
    },
    {
      "cell_type": "code",
      "source": [
        "# Como los valores ya están calculados imprimimos son un for para las filas\n",
        "for _, row in df_Agrupado.iterrows():\n",
        "    print(\n",
        "        f\"Para el grupo de edad {row['AgeGroup']}, el promedio de glucosa es {row['avg_glucose']:.2f} y de BMI es {row['avg_bmi']:.2f}.\"\n",
        "    )"
      ],
      "metadata": {
        "id": "gSsk4WgzwDgo",
        "outputId": "4865f12f-5880-4478-97d3-10813a446338",
        "colab": {
          "base_uri": "https://localhost:8080/"
        }
      },
      "execution_count": 21,
      "outputs": [
        {
          "output_type": "stream",
          "name": "stdout",
          "text": [
            "Para el grupo de edad Adulto, el promedio de glucosa es 126.50 y de BMI es 33.56.\n",
            "Para el grupo de edad Adulto_Mayor, el promedio de glucosa es 139.68 y de BMI es 31.01.\n",
            "Para el grupo de edad Joven, el promedio de glucosa es 115.02 y de BMI es 32.02.\n"
          ]
        }
      ]
    },
    {
      "cell_type": "markdown",
      "source": [
        "3) Ordena el resultado por el promedio de Glucose de mayor a menor."
      ],
      "metadata": {
        "id": "6T4SlHE7rFtV"
      }
    },
    {
      "cell_type": "code",
      "source": [
        "# Ordenamos por el promedio de 'Glucose' de mayor a menor\n",
        "df_sorted = df_Agrupado.sort_values(by='avg_glucose', ascending=False)\n",
        "print(\"Las primeras 5 filas de df_Sorted\")\n",
        "print(df_sorted.head())"
      ],
      "metadata": {
        "id": "K9e99QIzu_ln",
        "outputId": "4163412b-c5d2-438d-c6af-c651f7be4f0e",
        "colab": {
          "base_uri": "https://localhost:8080/"
        }
      },
      "execution_count": 22,
      "outputs": [
        {
          "output_type": "stream",
          "name": "stdout",
          "text": [
            "Las primeras 5 filas de df_Sorted\n",
            "       AgeGroup  avg_glucose    avg_bmi\n",
            "1  Adulto_Mayor   139.679012  31.012530\n",
            "0        Adulto   126.503704  33.562593\n",
            "2         Joven   115.016787  32.022583\n"
          ]
        }
      ]
    },
    {
      "cell_type": "markdown",
      "source": [
        "4) Muestra el DataFrame resultante."
      ],
      "metadata": {
        "id": "UDIJLu_SrFg3"
      }
    },
    {
      "cell_type": "code",
      "source": [
        "print(\"Mostramos DF sorted\")\n",
        "print(df_sorted)"
      ],
      "metadata": {
        "id": "JQLFeWGgvt23",
        "outputId": "e603856a-5ffd-4857-a166-6564d50c3a9b",
        "colab": {
          "base_uri": "https://localhost:8080/"
        }
      },
      "execution_count": 23,
      "outputs": [
        {
          "output_type": "stream",
          "name": "stdout",
          "text": [
            "Mostramos DF sorted\n",
            "       AgeGroup  avg_glucose    avg_bmi\n",
            "1  Adulto_Mayor   139.679012  31.012530\n",
            "0        Adulto   126.503704  33.562593\n",
            "2         Joven   115.016787  32.022583\n"
          ]
        }
      ]
    },
    {
      "cell_type": "markdown",
      "source": [
        "##Pregunta 5:"
      ],
      "metadata": {
        "id": "ssq-VQgQO_lo"
      }
    },
    {
      "cell_type": "markdown",
      "source": [
        "1) A partir de df_combinado, filtra las filas donde AgeGroup = \"Adulto\" y Outcome = 1 (casos positivos de diabetes en adultos)."
      ],
      "metadata": {
        "id": "tzz12NTxRuMy"
      }
    },
    {
      "cell_type": "code",
      "source": [
        "# Filtramos filas donde AgeGroup = \"Adulto\" y Outcome = 1\n",
        "df_subset = df_combinado[(df_combinado['AgeGroup'] == \"Adulto\") & (df_combinado['Outcome'] == 1)]\n",
        "#Iprimo el tamaño del subset\n",
        "print(df_subset.shape)"
      ],
      "metadata": {
        "id": "sLjFDhbfUdnG",
        "outputId": "2fa86c53-9747-4151-cac3-0be1d27cbb0a",
        "colab": {
          "base_uri": "https://localhost:8080/"
        }
      },
      "execution_count": 24,
      "outputs": [
        {
          "output_type": "stream",
          "name": "stdout",
          "text": [
            "(140, 10)\n"
          ]
        }
      ]
    },
    {
      "cell_type": "markdown",
      "source": [
        "2) De este subconjunto, selecciona los 5 registros con el mayor valor de BMI."
      ],
      "metadata": {
        "id": "Y4h6bZBQRuox"
      }
    },
    {
      "cell_type": "code",
      "source": [
        "# Seleccionamos los 5 registros con el mayor valor de BMI\n",
        "top_bmi = df_subset.nlargest(5, 'BMI')\n",
        "print(top_bmi)"
      ],
      "metadata": {
        "id": "cAXtJaolUgy4",
        "outputId": "d900b5f9-838f-4ae5-a8fb-1c37fb3a8bcc",
        "colab": {
          "base_uri": "https://localhost:8080/"
        }
      },
      "execution_count": 25,
      "outputs": [
        {
          "output_type": "stream",
          "name": "stdout",
          "text": [
            "     Pregnancies  Glucose  BloodPressure  SkinThickness  Insulin   BMI  \\\n",
            "193           11      135              0              0        0  52.3   \n",
            "155            7      152             88             44        0  50.0   \n",
            "99             1      122             90             51      220  49.7   \n",
            "84             5      137            108              0        0  48.8   \n",
            "378            4      156             75              0        0  48.3   \n",
            "\n",
            "     DiabetesPedigreeFunction  Age Outcome AgeGroup  \n",
            "193                     0.578   40       1   Adulto  \n",
            "155                     0.337   36       1   Adulto  \n",
            "99                      0.325   31       1   Adulto  \n",
            "84                      0.227   37       1   Adulto  \n",
            "378                     0.238   32       1   Adulto  \n"
          ]
        }
      ]
    },
    {
      "cell_type": "markdown",
      "source": [
        "3) Muestra únicamente las columnas Age, Glucose, BMI, DiabetesPedigreeFunction, ordenadas por BMI de mayor a menor."
      ],
      "metadata": {
        "id": "-tbjRrC6SEtP"
      }
    },
    {
      "cell_type": "code",
      "source": [
        "# Seleccionamos las columnas y ordenar por BMI de mayor a menor\n",
        "top_bmi_sorted = top_bmi[['Age', 'Glucose', 'BMI', 'DiabetesPedigreeFunction']].sort_values(by='BMI', ascending=False)\n",
        "\n",
        "# Mostramos el resultado\n",
        "print(\"\\nTop 5 registros con el mayor BMI (casos positivos de diabetes en adultos):\")\n",
        "print(top_bmi_sorted )"
      ],
      "metadata": {
        "id": "jMNxs1pxV2BX",
        "outputId": "99ce3f6b-3a1b-41d0-b687-20ae714f785a",
        "colab": {
          "base_uri": "https://localhost:8080/"
        }
      },
      "execution_count": 26,
      "outputs": [
        {
          "output_type": "stream",
          "name": "stdout",
          "text": [
            "\n",
            "Top 5 registros con el mayor BMI (casos positivos de diabetes en adultos):\n",
            "     Age  Glucose   BMI  DiabetesPedigreeFunction\n",
            "193   40      135  52.3                     0.578\n",
            "155   36      152  50.0                     0.337\n",
            "99    31      122  49.7                     0.325\n",
            "84    37      137  48.8                     0.227\n",
            "378   32      156  48.3                     0.238\n"
          ]
        }
      ]
    },
    {
      "cell_type": "markdown",
      "source": [
        "## Pregunta 6:"
      ],
      "metadata": {
        "id": "zscD_5k-O_he"
      }
    },
    {
      "cell_type": "markdown",
      "source": [
        "1) Usando df_combinado, crea una tabla pivote que tenga:\n",
        "* Índice: AgeGroup\n",
        "* Columnas: Outcome\n",
        "* Valores: promedio de Glucose y BMI"
      ],
      "metadata": {
        "id": "xjvQtYHNSXMa"
      }
    },
    {
      "cell_type": "code",
      "source": [
        "# Crear una tabla pivote con el promedio de Glucose y BMI\n",
        "pivot_table = df_combinado.pivot_table(\n",
        "    index='AgeGroup',\n",
        "    columns='Outcome',\n",
        "    values=['Glucose', 'BMI'],\n",
        "    aggfunc='mean'\n",
        ")"
      ],
      "metadata": {
        "colab": {
          "base_uri": "https://localhost:8080/"
        },
        "id": "HYtfKZ-KSTCe",
        "outputId": "918acd59-1b21-4149-96e4-b4b9486232b0"
      },
      "execution_count": 27,
      "outputs": [
        {
          "output_type": "stream",
          "name": "stderr",
          "text": [
            "<ipython-input-27-25d67e46311f>:2: FutureWarning: The default value of observed=False is deprecated and will change to observed=True in a future version of pandas. Specify observed=False to silence this warning and retain the current behavior\n",
            "  pivot_table = df_combinado.pivot_table(\n"
          ]
        }
      ]
    },
    {
      "cell_type": "markdown",
      "source": [
        "2) La pivot table debe mostrar el promedio de Glucose y BMI por combinación de AgeGroup y Outcome."
      ],
      "metadata": {
        "id": "rfatC64i9wBw"
      }
    },
    {
      "cell_type": "code",
      "source": [
        "# Mostrar la tabla pivote\n",
        "print(\"\\nTabla pivote (promedio de Glucose y BMI por AgeGroup y Outcome):\")\n",
        "print(pivot_table)"
      ],
      "metadata": {
        "id": "i8U7hUFw_RBh",
        "outputId": "163da79f-0bfa-41e3-e0b5-b6a74bd6d490",
        "colab": {
          "base_uri": "https://localhost:8080/"
        }
      },
      "execution_count": 28,
      "outputs": [
        {
          "output_type": "stream",
          "name": "stdout",
          "text": [
            "\n",
            "Tabla pivote (promedio de Glucose y BMI por AgeGroup y Outcome):\n",
            "                    BMI                Glucose            \n",
            "Outcome               0          1           0           1\n",
            "AgeGroup                                                  \n",
            "Adulto        31.923077  35.085000  111.830769  140.128571\n",
            "Adulto_Mayor  29.168778  33.098881  127.209302  153.789474\n",
            "Joven         30.703241  36.816194  108.051988  140.322222\n"
          ]
        }
      ]
    },
    {
      "cell_type": "markdown",
      "source": [
        "3) De la tabla resultante, filtra y muestra únicamente las filas (AgeGroups) donde el promedio de BMI para cualquiera de los valores de Outcome sea mayor a 30."
      ],
      "metadata": {
        "id": "ti_nlIDU9y4_"
      }
    },
    {
      "cell_type": "code",
      "source": [
        "#Filtrar las filas donde el promedio de BMI para cualquier Outcome sea mayor a 30\n",
        "filtered_pivot_table = pivot_table[pivot_table['BMI'].apply(lambda x: x.max() > 30, axis=1)]\n",
        "\n",
        "# Mostrar la tabla filtrada\n",
        "print(\"\\nFilas donde el promedio de BMI para cualquier Outcome es mayor a 30:\")\n",
        "print(filtered_pivot_table)"
      ],
      "metadata": {
        "id": "jMQYyRTC_PPx",
        "outputId": "72e38834-a4f7-4200-ee8a-0bbca445c509",
        "colab": {
          "base_uri": "https://localhost:8080/"
        }
      },
      "execution_count": 29,
      "outputs": [
        {
          "output_type": "stream",
          "name": "stdout",
          "text": [
            "\n",
            "Filas donde el promedio de BMI para cualquier Outcome es mayor a 30:\n",
            "                    BMI                Glucose            \n",
            "Outcome               0          1           0           1\n",
            "AgeGroup                                                  \n",
            "Adulto        31.923077  35.085000  111.830769  140.128571\n",
            "Adulto_Mayor  29.168778  33.098881  127.209302  153.789474\n",
            "Joven         30.703241  36.816194  108.051988  140.322222\n"
          ]
        }
      ]
    }
  ]
}