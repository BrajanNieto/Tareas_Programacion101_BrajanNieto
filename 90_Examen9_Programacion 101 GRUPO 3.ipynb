{
  "nbformat": 4,
  "nbformat_minor": 0,
  "metadata": {
    "colab": {
      "provenance": [],
      "include_colab_link": true
    },
    "kernelspec": {
      "name": "python3",
      "display_name": "Python 3"
    },
    "language_info": {
      "name": "python"
    }
  },
  "cells": [
    {
      "cell_type": "markdown",
      "metadata": {
        "id": "view-in-github",
        "colab_type": "text"
      },
      "source": [
        "<a href=\"https://colab.research.google.com/github/BrajanNieto/Tareas_Programacion101_BrajanNieto/blob/main/90_Examen9_Programacion%20101%20GRUPO%203.ipynb\" target=\"_parent\"><img src=\"https://colab.research.google.com/assets/colab-badge.svg\" alt=\"Open In Colab\"/></a>"
      ]
    },
    {
      "cell_type": "markdown",
      "source": [
        "#**Práctica Final - Programación 101**\n",
        "## Maestría de Ciencia de Datos e Inteligencia Artificial\n",
        "### Programación 101\n",
        "\n",
        "**Profesor del curso:**  \n",
        "Mg. John Caballero Terrazos  \n",
        "[jcaballero@utec.edu.pe](mailto:jcaballero@utec.edu.pe)\n",
        "\n",
        "**Integrantes:**  \n",
        "Piero Diaz\n",
        "Rodrigo Guedes\n",
        "Brajan Esteban Nieto Espinoza  \n",
        "[brajan.nieto@utec.edu.pe](mailto:brajan.nieto@utec.edu.pe)\n",
        "Julio Salgado\n",
        "\n",
        "<img src=\"https://pregrado.utec.edu.pe/sites/default/files/logo-utec-h_0_0.svg\" width=\"190\" alt=\"Logo UTEC\" loading=\"lazy\" typeof=\"foaf:Image\">"
      ],
      "metadata": {
        "id": "_9GhAtAbKeUj"
      }
    },
    {
      "cell_type": "code",
      "source": [
        "# Librerías que se usaron en el desarrollo de la práctica\n",
        "import numpy as np\n",
        "import pandas as pd\n",
        "import matplotlib.pyplot as plt\n",
        "import seaborn as sns\n",
        "from scipy.stats import kstest, norm #Esto lo use a para imputación de valores"
      ],
      "metadata": {
        "id": "NDXFuO45KRio"
      },
      "execution_count": null,
      "outputs": []
    },
    {
      "cell_type": "markdown",
      "source": [
        "## Pregunta 1"
      ],
      "metadata": {
        "id": "gKOxp8NTJ4Pc"
      }
    },
    {
      "cell_type": "markdown",
      "source": [
        "1) Carga diabetes.csv en un DataFrame df_diabetes."
      ],
      "metadata": {
        "id": "nuyQXPDoQqCl"
      }
    }
  ]
}